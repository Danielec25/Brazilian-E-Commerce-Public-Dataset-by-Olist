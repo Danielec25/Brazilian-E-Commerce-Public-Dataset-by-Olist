{
 "cells": [
  {
   "cell_type": "code",
   "execution_count": 5,
   "metadata": {},
   "outputs": [
    {
     "data": {
      "text/html": [
       "<div>\n",
       "<style scoped>\n",
       "    .dataframe tbody tr th:only-of-type {\n",
       "        vertical-align: middle;\n",
       "    }\n",
       "\n",
       "    .dataframe tbody tr th {\n",
       "        vertical-align: top;\n",
       "    }\n",
       "\n",
       "    .dataframe thead th {\n",
       "        text-align: right;\n",
       "    }\n",
       "</style>\n",
       "<table border=\"1\" class=\"dataframe\">\n",
       "  <thead>\n",
       "    <tr style=\"text-align: right;\">\n",
       "      <th></th>\n",
       "      <th>product_category_name</th>\n",
       "      <th>product_category_name_english</th>\n",
       "    </tr>\n",
       "  </thead>\n",
       "  <tbody>\n",
       "    <tr>\n",
       "      <th>0</th>\n",
       "      <td>beleza_saude</td>\n",
       "      <td>health_beauty</td>\n",
       "    </tr>\n",
       "    <tr>\n",
       "      <th>1</th>\n",
       "      <td>informatica_acessorios</td>\n",
       "      <td>computers_accessories</td>\n",
       "    </tr>\n",
       "    <tr>\n",
       "      <th>2</th>\n",
       "      <td>automotivo</td>\n",
       "      <td>auto</td>\n",
       "    </tr>\n",
       "    <tr>\n",
       "      <th>3</th>\n",
       "      <td>cama_mesa_banho</td>\n",
       "      <td>bed_bath_table</td>\n",
       "    </tr>\n",
       "    <tr>\n",
       "      <th>4</th>\n",
       "      <td>moveis_decoracao</td>\n",
       "      <td>furniture_decor</td>\n",
       "    </tr>\n",
       "    <tr>\n",
       "      <th>...</th>\n",
       "      <td>...</td>\n",
       "      <td>...</td>\n",
       "    </tr>\n",
       "    <tr>\n",
       "      <th>66</th>\n",
       "      <td>flores</td>\n",
       "      <td>flowers</td>\n",
       "    </tr>\n",
       "    <tr>\n",
       "      <th>67</th>\n",
       "      <td>artes_e_artesanato</td>\n",
       "      <td>arts_and_craftmanship</td>\n",
       "    </tr>\n",
       "    <tr>\n",
       "      <th>68</th>\n",
       "      <td>fraldas_higiene</td>\n",
       "      <td>diapers_and_hygiene</td>\n",
       "    </tr>\n",
       "    <tr>\n",
       "      <th>69</th>\n",
       "      <td>fashion_roupa_infanto_juvenil</td>\n",
       "      <td>fashion_childrens_clothes</td>\n",
       "    </tr>\n",
       "    <tr>\n",
       "      <th>70</th>\n",
       "      <td>seguros_e_servicos</td>\n",
       "      <td>security_and_services</td>\n",
       "    </tr>\n",
       "  </tbody>\n",
       "</table>\n",
       "<p>71 rows × 2 columns</p>\n",
       "</div>"
      ],
      "text/plain": [
       "            product_category_name product_category_name_english\n",
       "0                    beleza_saude                 health_beauty\n",
       "1          informatica_acessorios         computers_accessories\n",
       "2                      automotivo                          auto\n",
       "3                 cama_mesa_banho                bed_bath_table\n",
       "4                moveis_decoracao               furniture_decor\n",
       "..                            ...                           ...\n",
       "66                         flores                       flowers\n",
       "67             artes_e_artesanato         arts_and_craftmanship\n",
       "68                fraldas_higiene           diapers_and_hygiene\n",
       "69  fashion_roupa_infanto_juvenil     fashion_childrens_clothes\n",
       "70             seguros_e_servicos         security_and_services\n",
       "\n",
       "[71 rows x 2 columns]"
      ]
     },
     "metadata": {},
     "output_type": "display_data"
    },
    {
     "data": {
      "text/html": [
       "<div>\n",
       "<style scoped>\n",
       "    .dataframe tbody tr th:only-of-type {\n",
       "        vertical-align: middle;\n",
       "    }\n",
       "\n",
       "    .dataframe tbody tr th {\n",
       "        vertical-align: top;\n",
       "    }\n",
       "\n",
       "    .dataframe thead th {\n",
       "        text-align: right;\n",
       "    }\n",
       "</style>\n",
       "<table border=\"1\" class=\"dataframe\">\n",
       "  <thead>\n",
       "    <tr style=\"text-align: right;\">\n",
       "      <th></th>\n",
       "      <th>product_category_name</th>\n",
       "      <th>product_category_name_english</th>\n",
       "    </tr>\n",
       "  </thead>\n",
       "  <tbody>\n",
       "    <tr>\n",
       "      <th>37</th>\n",
       "      <td>agro_industria_e_comercio</td>\n",
       "      <td>agro_industry_and_commerce</td>\n",
       "    </tr>\n",
       "    <tr>\n",
       "      <th>45</th>\n",
       "      <td>alimentos</td>\n",
       "      <td>food</td>\n",
       "    </tr>\n",
       "    <tr>\n",
       "      <th>10</th>\n",
       "      <td>alimentos_bebidas</td>\n",
       "      <td>food_drink</td>\n",
       "    </tr>\n",
       "    <tr>\n",
       "      <th>46</th>\n",
       "      <td>artes</td>\n",
       "      <td>art</td>\n",
       "    </tr>\n",
       "    <tr>\n",
       "      <th>67</th>\n",
       "      <td>artes_e_artesanato</td>\n",
       "      <td>arts_and_craftmanship</td>\n",
       "    </tr>\n",
       "    <tr>\n",
       "      <th>...</th>\n",
       "      <td>...</td>\n",
       "      <td>...</td>\n",
       "    </tr>\n",
       "    <tr>\n",
       "      <th>52</th>\n",
       "      <td>sinalizacao_e_seguranca</td>\n",
       "      <td>signaling_and_security</td>\n",
       "    </tr>\n",
       "    <tr>\n",
       "      <th>13</th>\n",
       "      <td>tablets_impressao_imagem</td>\n",
       "      <td>tablets_printing_image</td>\n",
       "    </tr>\n",
       "    <tr>\n",
       "      <th>8</th>\n",
       "      <td>telefonia</td>\n",
       "      <td>telephony</td>\n",
       "    </tr>\n",
       "    <tr>\n",
       "      <th>15</th>\n",
       "      <td>telefonia_fixa</td>\n",
       "      <td>fixed_telephony</td>\n",
       "    </tr>\n",
       "    <tr>\n",
       "      <th>7</th>\n",
       "      <td>utilidades_domesticas</td>\n",
       "      <td>housewares</td>\n",
       "    </tr>\n",
       "  </tbody>\n",
       "</table>\n",
       "<p>71 rows × 2 columns</p>\n",
       "</div>"
      ],
      "text/plain": [
       "        product_category_name product_category_name_english\n",
       "37  agro_industria_e_comercio    agro_industry_and_commerce\n",
       "45                  alimentos                          food\n",
       "10          alimentos_bebidas                    food_drink\n",
       "46                      artes                           art\n",
       "67         artes_e_artesanato         arts_and_craftmanship\n",
       "..                        ...                           ...\n",
       "52    sinalizacao_e_seguranca        signaling_and_security\n",
       "13   tablets_impressao_imagem        tablets_printing_image\n",
       "8                   telefonia                     telephony\n",
       "15             telefonia_fixa               fixed_telephony\n",
       "7       utilidades_domesticas                    housewares\n",
       "\n",
       "[71 rows x 2 columns]"
      ]
     },
     "metadata": {},
     "output_type": "display_data"
    },
    {
     "name": "stdout",
     "output_type": "stream",
     "text": [
      "<class 'pandas.core.frame.DataFrame'>\n",
      "RangeIndex: 71 entries, 0 to 70\n",
      "Data columns (total 2 columns):\n",
      " #   Column                         Non-Null Count  Dtype \n",
      "---  ------                         --------------  ----- \n",
      " 0   product_category_name          71 non-null     object\n",
      " 1   product_category_name_english  71 non-null     object\n",
      "dtypes: object(2)\n",
      "memory usage: 1.2+ KB\n"
     ]
    },
    {
     "data": {
      "text/plain": [
       "None"
      ]
     },
     "metadata": {},
     "output_type": "display_data"
    },
    {
     "data": {
      "text/plain": [
       "product_category_name\n",
       "beleza_saude                        1\n",
       "alimentos                           1\n",
       "fashion_esporte                     1\n",
       "fashion_underwear_e_moda_praia      1\n",
       "construcao_ferramentas_seguranca    1\n",
       "                                   ..\n",
       "malas_acessorios                    1\n",
       "cool_stuff                          1\n",
       "fashion_calcados                    1\n",
       "audio                               1\n",
       "seguros_e_servicos                  1\n",
       "Name: count, Length: 71, dtype: int64"
      ]
     },
     "metadata": {},
     "output_type": "display_data"
    },
    {
     "data": {
      "text/plain": [
       "product_category_name\n",
       "beleza_saude                        0.014085\n",
       "alimentos                           0.014085\n",
       "fashion_esporte                     0.014085\n",
       "fashion_underwear_e_moda_praia      0.014085\n",
       "construcao_ferramentas_seguranca    0.014085\n",
       "                                      ...   \n",
       "malas_acessorios                    0.014085\n",
       "cool_stuff                          0.014085\n",
       "fashion_calcados                    0.014085\n",
       "audio                               0.014085\n",
       "seguros_e_servicos                  0.014085\n",
       "Name: proportion, Length: 71, dtype: float64"
      ]
     },
     "metadata": {},
     "output_type": "display_data"
    },
    {
     "data": {
      "application/vnd.plotly.v1+json": {
       "config": {
        "plotlyServerURL": "https://plot.ly"
       },
       "data": [
        {
         "alignmentgroup": "True",
         "bingroup": "x",
         "hovertemplate": "product_category_name=%{x}<br>count=%{y}<extra></extra>",
         "legendgroup": "",
         "marker": {
          "color": "#636efa",
          "pattern": {
           "shape": ""
          }
         },
         "name": "",
         "offsetgroup": "",
         "orientation": "v",
         "showlegend": false,
         "type": "histogram",
         "x": [
          "beleza_saude",
          "informatica_acessorios",
          "automotivo",
          "cama_mesa_banho",
          "moveis_decoracao",
          "esporte_lazer",
          "perfumaria",
          "utilidades_domesticas",
          "telefonia",
          "relogios_presentes",
          "alimentos_bebidas",
          "bebes",
          "papelaria",
          "tablets_impressao_imagem",
          "brinquedos",
          "telefonia_fixa",
          "ferramentas_jardim",
          "fashion_bolsas_e_acessorios",
          "eletroportateis",
          "consoles_games",
          "audio",
          "fashion_calcados",
          "cool_stuff",
          "malas_acessorios",
          "climatizacao",
          "construcao_ferramentas_construcao",
          "moveis_cozinha_area_de_servico_jantar_e_jardim",
          "construcao_ferramentas_jardim",
          "fashion_roupa_masculina",
          "pet_shop",
          "moveis_escritorio",
          "market_place",
          "eletronicos",
          "eletrodomesticos",
          "artigos_de_festas",
          "casa_conforto",
          "construcao_ferramentas_ferramentas",
          "agro_industria_e_comercio",
          "moveis_colchao_e_estofado",
          "livros_tecnicos",
          "casa_construcao",
          "instrumentos_musicais",
          "moveis_sala",
          "construcao_ferramentas_iluminacao",
          "industria_comercio_e_negocios",
          "alimentos",
          "artes",
          "moveis_quarto",
          "livros_interesse_geral",
          "construcao_ferramentas_seguranca",
          "fashion_underwear_e_moda_praia",
          "fashion_esporte",
          "sinalizacao_e_seguranca",
          "pcs",
          "artigos_de_natal",
          "fashion_roupa_feminina",
          "eletrodomesticos_2",
          "livros_importados",
          "bebidas",
          "cine_foto",
          "la_cuisine",
          "musica",
          "casa_conforto_2",
          "portateis_casa_forno_e_cafe",
          "cds_dvds_musicais",
          "dvds_blu_ray",
          "flores",
          "artes_e_artesanato",
          "fraldas_higiene",
          "fashion_roupa_infanto_juvenil",
          "seguros_e_servicos"
         ],
         "xaxis": "x",
         "yaxis": "y"
        }
       ],
       "layout": {
        "barmode": "relative",
        "legend": {
         "tracegroupgap": 0
        },
        "margin": {
         "t": 60
        },
        "template": {
         "data": {
          "bar": [
           {
            "error_x": {
             "color": "#2a3f5f"
            },
            "error_y": {
             "color": "#2a3f5f"
            },
            "marker": {
             "line": {
              "color": "#E5ECF6",
              "width": 0.5
             },
             "pattern": {
              "fillmode": "overlay",
              "size": 10,
              "solidity": 0.2
             }
            },
            "type": "bar"
           }
          ],
          "barpolar": [
           {
            "marker": {
             "line": {
              "color": "#E5ECF6",
              "width": 0.5
             },
             "pattern": {
              "fillmode": "overlay",
              "size": 10,
              "solidity": 0.2
             }
            },
            "type": "barpolar"
           }
          ],
          "carpet": [
           {
            "aaxis": {
             "endlinecolor": "#2a3f5f",
             "gridcolor": "white",
             "linecolor": "white",
             "minorgridcolor": "white",
             "startlinecolor": "#2a3f5f"
            },
            "baxis": {
             "endlinecolor": "#2a3f5f",
             "gridcolor": "white",
             "linecolor": "white",
             "minorgridcolor": "white",
             "startlinecolor": "#2a3f5f"
            },
            "type": "carpet"
           }
          ],
          "choropleth": [
           {
            "colorbar": {
             "outlinewidth": 0,
             "ticks": ""
            },
            "type": "choropleth"
           }
          ],
          "contour": [
           {
            "colorbar": {
             "outlinewidth": 0,
             "ticks": ""
            },
            "colorscale": [
             [
              0,
              "#0d0887"
             ],
             [
              0.1111111111111111,
              "#46039f"
             ],
             [
              0.2222222222222222,
              "#7201a8"
             ],
             [
              0.3333333333333333,
              "#9c179e"
             ],
             [
              0.4444444444444444,
              "#bd3786"
             ],
             [
              0.5555555555555556,
              "#d8576b"
             ],
             [
              0.6666666666666666,
              "#ed7953"
             ],
             [
              0.7777777777777778,
              "#fb9f3a"
             ],
             [
              0.8888888888888888,
              "#fdca26"
             ],
             [
              1,
              "#f0f921"
             ]
            ],
            "type": "contour"
           }
          ],
          "contourcarpet": [
           {
            "colorbar": {
             "outlinewidth": 0,
             "ticks": ""
            },
            "type": "contourcarpet"
           }
          ],
          "heatmap": [
           {
            "colorbar": {
             "outlinewidth": 0,
             "ticks": ""
            },
            "colorscale": [
             [
              0,
              "#0d0887"
             ],
             [
              0.1111111111111111,
              "#46039f"
             ],
             [
              0.2222222222222222,
              "#7201a8"
             ],
             [
              0.3333333333333333,
              "#9c179e"
             ],
             [
              0.4444444444444444,
              "#bd3786"
             ],
             [
              0.5555555555555556,
              "#d8576b"
             ],
             [
              0.6666666666666666,
              "#ed7953"
             ],
             [
              0.7777777777777778,
              "#fb9f3a"
             ],
             [
              0.8888888888888888,
              "#fdca26"
             ],
             [
              1,
              "#f0f921"
             ]
            ],
            "type": "heatmap"
           }
          ],
          "heatmapgl": [
           {
            "colorbar": {
             "outlinewidth": 0,
             "ticks": ""
            },
            "colorscale": [
             [
              0,
              "#0d0887"
             ],
             [
              0.1111111111111111,
              "#46039f"
             ],
             [
              0.2222222222222222,
              "#7201a8"
             ],
             [
              0.3333333333333333,
              "#9c179e"
             ],
             [
              0.4444444444444444,
              "#bd3786"
             ],
             [
              0.5555555555555556,
              "#d8576b"
             ],
             [
              0.6666666666666666,
              "#ed7953"
             ],
             [
              0.7777777777777778,
              "#fb9f3a"
             ],
             [
              0.8888888888888888,
              "#fdca26"
             ],
             [
              1,
              "#f0f921"
             ]
            ],
            "type": "heatmapgl"
           }
          ],
          "histogram": [
           {
            "marker": {
             "pattern": {
              "fillmode": "overlay",
              "size": 10,
              "solidity": 0.2
             }
            },
            "type": "histogram"
           }
          ],
          "histogram2d": [
           {
            "colorbar": {
             "outlinewidth": 0,
             "ticks": ""
            },
            "colorscale": [
             [
              0,
              "#0d0887"
             ],
             [
              0.1111111111111111,
              "#46039f"
             ],
             [
              0.2222222222222222,
              "#7201a8"
             ],
             [
              0.3333333333333333,
              "#9c179e"
             ],
             [
              0.4444444444444444,
              "#bd3786"
             ],
             [
              0.5555555555555556,
              "#d8576b"
             ],
             [
              0.6666666666666666,
              "#ed7953"
             ],
             [
              0.7777777777777778,
              "#fb9f3a"
             ],
             [
              0.8888888888888888,
              "#fdca26"
             ],
             [
              1,
              "#f0f921"
             ]
            ],
            "type": "histogram2d"
           }
          ],
          "histogram2dcontour": [
           {
            "colorbar": {
             "outlinewidth": 0,
             "ticks": ""
            },
            "colorscale": [
             [
              0,
              "#0d0887"
             ],
             [
              0.1111111111111111,
              "#46039f"
             ],
             [
              0.2222222222222222,
              "#7201a8"
             ],
             [
              0.3333333333333333,
              "#9c179e"
             ],
             [
              0.4444444444444444,
              "#bd3786"
             ],
             [
              0.5555555555555556,
              "#d8576b"
             ],
             [
              0.6666666666666666,
              "#ed7953"
             ],
             [
              0.7777777777777778,
              "#fb9f3a"
             ],
             [
              0.8888888888888888,
              "#fdca26"
             ],
             [
              1,
              "#f0f921"
             ]
            ],
            "type": "histogram2dcontour"
           }
          ],
          "mesh3d": [
           {
            "colorbar": {
             "outlinewidth": 0,
             "ticks": ""
            },
            "type": "mesh3d"
           }
          ],
          "parcoords": [
           {
            "line": {
             "colorbar": {
              "outlinewidth": 0,
              "ticks": ""
             }
            },
            "type": "parcoords"
           }
          ],
          "pie": [
           {
            "automargin": true,
            "type": "pie"
           }
          ],
          "scatter": [
           {
            "fillpattern": {
             "fillmode": "overlay",
             "size": 10,
             "solidity": 0.2
            },
            "type": "scatter"
           }
          ],
          "scatter3d": [
           {
            "line": {
             "colorbar": {
              "outlinewidth": 0,
              "ticks": ""
             }
            },
            "marker": {
             "colorbar": {
              "outlinewidth": 0,
              "ticks": ""
             }
            },
            "type": "scatter3d"
           }
          ],
          "scattercarpet": [
           {
            "marker": {
             "colorbar": {
              "outlinewidth": 0,
              "ticks": ""
             }
            },
            "type": "scattercarpet"
           }
          ],
          "scattergeo": [
           {
            "marker": {
             "colorbar": {
              "outlinewidth": 0,
              "ticks": ""
             }
            },
            "type": "scattergeo"
           }
          ],
          "scattergl": [
           {
            "marker": {
             "colorbar": {
              "outlinewidth": 0,
              "ticks": ""
             }
            },
            "type": "scattergl"
           }
          ],
          "scattermapbox": [
           {
            "marker": {
             "colorbar": {
              "outlinewidth": 0,
              "ticks": ""
             }
            },
            "type": "scattermapbox"
           }
          ],
          "scatterpolar": [
           {
            "marker": {
             "colorbar": {
              "outlinewidth": 0,
              "ticks": ""
             }
            },
            "type": "scatterpolar"
           }
          ],
          "scatterpolargl": [
           {
            "marker": {
             "colorbar": {
              "outlinewidth": 0,
              "ticks": ""
             }
            },
            "type": "scatterpolargl"
           }
          ],
          "scatterternary": [
           {
            "marker": {
             "colorbar": {
              "outlinewidth": 0,
              "ticks": ""
             }
            },
            "type": "scatterternary"
           }
          ],
          "surface": [
           {
            "colorbar": {
             "outlinewidth": 0,
             "ticks": ""
            },
            "colorscale": [
             [
              0,
              "#0d0887"
             ],
             [
              0.1111111111111111,
              "#46039f"
             ],
             [
              0.2222222222222222,
              "#7201a8"
             ],
             [
              0.3333333333333333,
              "#9c179e"
             ],
             [
              0.4444444444444444,
              "#bd3786"
             ],
             [
              0.5555555555555556,
              "#d8576b"
             ],
             [
              0.6666666666666666,
              "#ed7953"
             ],
             [
              0.7777777777777778,
              "#fb9f3a"
             ],
             [
              0.8888888888888888,
              "#fdca26"
             ],
             [
              1,
              "#f0f921"
             ]
            ],
            "type": "surface"
           }
          ],
          "table": [
           {
            "cells": {
             "fill": {
              "color": "#EBF0F8"
             },
             "line": {
              "color": "white"
             }
            },
            "header": {
             "fill": {
              "color": "#C8D4E3"
             },
             "line": {
              "color": "white"
             }
            },
            "type": "table"
           }
          ]
         },
         "layout": {
          "annotationdefaults": {
           "arrowcolor": "#2a3f5f",
           "arrowhead": 0,
           "arrowwidth": 1
          },
          "autotypenumbers": "strict",
          "coloraxis": {
           "colorbar": {
            "outlinewidth": 0,
            "ticks": ""
           }
          },
          "colorscale": {
           "diverging": [
            [
             0,
             "#8e0152"
            ],
            [
             0.1,
             "#c51b7d"
            ],
            [
             0.2,
             "#de77ae"
            ],
            [
             0.3,
             "#f1b6da"
            ],
            [
             0.4,
             "#fde0ef"
            ],
            [
             0.5,
             "#f7f7f7"
            ],
            [
             0.6,
             "#e6f5d0"
            ],
            [
             0.7,
             "#b8e186"
            ],
            [
             0.8,
             "#7fbc41"
            ],
            [
             0.9,
             "#4d9221"
            ],
            [
             1,
             "#276419"
            ]
           ],
           "sequential": [
            [
             0,
             "#0d0887"
            ],
            [
             0.1111111111111111,
             "#46039f"
            ],
            [
             0.2222222222222222,
             "#7201a8"
            ],
            [
             0.3333333333333333,
             "#9c179e"
            ],
            [
             0.4444444444444444,
             "#bd3786"
            ],
            [
             0.5555555555555556,
             "#d8576b"
            ],
            [
             0.6666666666666666,
             "#ed7953"
            ],
            [
             0.7777777777777778,
             "#fb9f3a"
            ],
            [
             0.8888888888888888,
             "#fdca26"
            ],
            [
             1,
             "#f0f921"
            ]
           ],
           "sequentialminus": [
            [
             0,
             "#0d0887"
            ],
            [
             0.1111111111111111,
             "#46039f"
            ],
            [
             0.2222222222222222,
             "#7201a8"
            ],
            [
             0.3333333333333333,
             "#9c179e"
            ],
            [
             0.4444444444444444,
             "#bd3786"
            ],
            [
             0.5555555555555556,
             "#d8576b"
            ],
            [
             0.6666666666666666,
             "#ed7953"
            ],
            [
             0.7777777777777778,
             "#fb9f3a"
            ],
            [
             0.8888888888888888,
             "#fdca26"
            ],
            [
             1,
             "#f0f921"
            ]
           ]
          },
          "colorway": [
           "#636efa",
           "#EF553B",
           "#00cc96",
           "#ab63fa",
           "#FFA15A",
           "#19d3f3",
           "#FF6692",
           "#B6E880",
           "#FF97FF",
           "#FECB52"
          ],
          "font": {
           "color": "#2a3f5f"
          },
          "geo": {
           "bgcolor": "white",
           "lakecolor": "white",
           "landcolor": "#E5ECF6",
           "showlakes": true,
           "showland": true,
           "subunitcolor": "white"
          },
          "hoverlabel": {
           "align": "left"
          },
          "hovermode": "closest",
          "mapbox": {
           "style": "light"
          },
          "paper_bgcolor": "white",
          "plot_bgcolor": "#E5ECF6",
          "polar": {
           "angularaxis": {
            "gridcolor": "white",
            "linecolor": "white",
            "ticks": ""
           },
           "bgcolor": "#E5ECF6",
           "radialaxis": {
            "gridcolor": "white",
            "linecolor": "white",
            "ticks": ""
           }
          },
          "scene": {
           "xaxis": {
            "backgroundcolor": "#E5ECF6",
            "gridcolor": "white",
            "gridwidth": 2,
            "linecolor": "white",
            "showbackground": true,
            "ticks": "",
            "zerolinecolor": "white"
           },
           "yaxis": {
            "backgroundcolor": "#E5ECF6",
            "gridcolor": "white",
            "gridwidth": 2,
            "linecolor": "white",
            "showbackground": true,
            "ticks": "",
            "zerolinecolor": "white"
           },
           "zaxis": {
            "backgroundcolor": "#E5ECF6",
            "gridcolor": "white",
            "gridwidth": 2,
            "linecolor": "white",
            "showbackground": true,
            "ticks": "",
            "zerolinecolor": "white"
           }
          },
          "shapedefaults": {
           "line": {
            "color": "#2a3f5f"
           }
          },
          "ternary": {
           "aaxis": {
            "gridcolor": "white",
            "linecolor": "white",
            "ticks": ""
           },
           "baxis": {
            "gridcolor": "white",
            "linecolor": "white",
            "ticks": ""
           },
           "bgcolor": "#E5ECF6",
           "caxis": {
            "gridcolor": "white",
            "linecolor": "white",
            "ticks": ""
           }
          },
          "title": {
           "x": 0.05
          },
          "xaxis": {
           "automargin": true,
           "gridcolor": "white",
           "linecolor": "white",
           "ticks": "",
           "title": {
            "standoff": 15
           },
           "zerolinecolor": "white",
           "zerolinewidth": 2
          },
          "yaxis": {
           "automargin": true,
           "gridcolor": "white",
           "linecolor": "white",
           "ticks": "",
           "title": {
            "standoff": 15
           },
           "zerolinecolor": "white",
           "zerolinewidth": 2
          }
         }
        },
        "xaxis": {
         "anchor": "y",
         "domain": [
          0,
          1
         ],
         "title": {
          "text": "product_category_name"
         }
        },
        "yaxis": {
         "anchor": "x",
         "domain": [
          0,
          1
         ],
         "title": {
          "text": "count"
         }
        }
       }
      }
     },
     "metadata": {},
     "output_type": "display_data"
    },
    {
     "data": {
      "application/vnd.plotly.v1+json": {
       "config": {
        "plotlyServerURL": "https://plot.ly"
       },
       "data": [
        {
         "alignmentgroup": "True",
         "bingroup": "x",
         "hovertemplate": "product_category_name_english=%{x}<br>count=%{y}<extra></extra>",
         "legendgroup": "",
         "marker": {
          "color": "#636efa",
          "pattern": {
           "shape": ""
          }
         },
         "name": "",
         "offsetgroup": "",
         "orientation": "v",
         "showlegend": false,
         "type": "histogram",
         "x": [
          "health_beauty",
          "computers_accessories",
          "auto",
          "bed_bath_table",
          "furniture_decor",
          "sports_leisure",
          "perfumery",
          "housewares",
          "telephony",
          "watches_gifts",
          "food_drink",
          "baby",
          "stationery",
          "tablets_printing_image",
          "toys",
          "fixed_telephony",
          "garden_tools",
          "fashion_bags_accessories",
          "small_appliances",
          "consoles_games",
          "audio",
          "fashion_shoes",
          "cool_stuff",
          "luggage_accessories",
          "air_conditioning",
          "construction_tools_construction",
          "kitchen_dining_laundry_garden_furniture",
          "costruction_tools_garden",
          "fashion_male_clothing",
          "pet_shop",
          "office_furniture",
          "market_place",
          "electronics",
          "home_appliances",
          "party_supplies",
          "home_confort",
          "costruction_tools_tools",
          "agro_industry_and_commerce",
          "furniture_mattress_and_upholstery",
          "books_technical",
          "home_construction",
          "musical_instruments",
          "furniture_living_room",
          "construction_tools_lights",
          "industry_commerce_and_business",
          "food",
          "art",
          "furniture_bedroom",
          "books_general_interest",
          "construction_tools_safety",
          "fashion_underwear_beach",
          "fashion_sport",
          "signaling_and_security",
          "computers",
          "christmas_supplies",
          "fashio_female_clothing",
          "home_appliances_2",
          "books_imported",
          "drinks",
          "cine_photo",
          "la_cuisine",
          "music",
          "home_comfort_2",
          "small_appliances_home_oven_and_coffee",
          "cds_dvds_musicals",
          "dvds_blu_ray",
          "flowers",
          "arts_and_craftmanship",
          "diapers_and_hygiene",
          "fashion_childrens_clothes",
          "security_and_services"
         ],
         "xaxis": "x",
         "yaxis": "y"
        }
       ],
       "layout": {
        "barmode": "relative",
        "legend": {
         "tracegroupgap": 0
        },
        "margin": {
         "t": 60
        },
        "template": {
         "data": {
          "bar": [
           {
            "error_x": {
             "color": "#2a3f5f"
            },
            "error_y": {
             "color": "#2a3f5f"
            },
            "marker": {
             "line": {
              "color": "#E5ECF6",
              "width": 0.5
             },
             "pattern": {
              "fillmode": "overlay",
              "size": 10,
              "solidity": 0.2
             }
            },
            "type": "bar"
           }
          ],
          "barpolar": [
           {
            "marker": {
             "line": {
              "color": "#E5ECF6",
              "width": 0.5
             },
             "pattern": {
              "fillmode": "overlay",
              "size": 10,
              "solidity": 0.2
             }
            },
            "type": "barpolar"
           }
          ],
          "carpet": [
           {
            "aaxis": {
             "endlinecolor": "#2a3f5f",
             "gridcolor": "white",
             "linecolor": "white",
             "minorgridcolor": "white",
             "startlinecolor": "#2a3f5f"
            },
            "baxis": {
             "endlinecolor": "#2a3f5f",
             "gridcolor": "white",
             "linecolor": "white",
             "minorgridcolor": "white",
             "startlinecolor": "#2a3f5f"
            },
            "type": "carpet"
           }
          ],
          "choropleth": [
           {
            "colorbar": {
             "outlinewidth": 0,
             "ticks": ""
            },
            "type": "choropleth"
           }
          ],
          "contour": [
           {
            "colorbar": {
             "outlinewidth": 0,
             "ticks": ""
            },
            "colorscale": [
             [
              0,
              "#0d0887"
             ],
             [
              0.1111111111111111,
              "#46039f"
             ],
             [
              0.2222222222222222,
              "#7201a8"
             ],
             [
              0.3333333333333333,
              "#9c179e"
             ],
             [
              0.4444444444444444,
              "#bd3786"
             ],
             [
              0.5555555555555556,
              "#d8576b"
             ],
             [
              0.6666666666666666,
              "#ed7953"
             ],
             [
              0.7777777777777778,
              "#fb9f3a"
             ],
             [
              0.8888888888888888,
              "#fdca26"
             ],
             [
              1,
              "#f0f921"
             ]
            ],
            "type": "contour"
           }
          ],
          "contourcarpet": [
           {
            "colorbar": {
             "outlinewidth": 0,
             "ticks": ""
            },
            "type": "contourcarpet"
           }
          ],
          "heatmap": [
           {
            "colorbar": {
             "outlinewidth": 0,
             "ticks": ""
            },
            "colorscale": [
             [
              0,
              "#0d0887"
             ],
             [
              0.1111111111111111,
              "#46039f"
             ],
             [
              0.2222222222222222,
              "#7201a8"
             ],
             [
              0.3333333333333333,
              "#9c179e"
             ],
             [
              0.4444444444444444,
              "#bd3786"
             ],
             [
              0.5555555555555556,
              "#d8576b"
             ],
             [
              0.6666666666666666,
              "#ed7953"
             ],
             [
              0.7777777777777778,
              "#fb9f3a"
             ],
             [
              0.8888888888888888,
              "#fdca26"
             ],
             [
              1,
              "#f0f921"
             ]
            ],
            "type": "heatmap"
           }
          ],
          "heatmapgl": [
           {
            "colorbar": {
             "outlinewidth": 0,
             "ticks": ""
            },
            "colorscale": [
             [
              0,
              "#0d0887"
             ],
             [
              0.1111111111111111,
              "#46039f"
             ],
             [
              0.2222222222222222,
              "#7201a8"
             ],
             [
              0.3333333333333333,
              "#9c179e"
             ],
             [
              0.4444444444444444,
              "#bd3786"
             ],
             [
              0.5555555555555556,
              "#d8576b"
             ],
             [
              0.6666666666666666,
              "#ed7953"
             ],
             [
              0.7777777777777778,
              "#fb9f3a"
             ],
             [
              0.8888888888888888,
              "#fdca26"
             ],
             [
              1,
              "#f0f921"
             ]
            ],
            "type": "heatmapgl"
           }
          ],
          "histogram": [
           {
            "marker": {
             "pattern": {
              "fillmode": "overlay",
              "size": 10,
              "solidity": 0.2
             }
            },
            "type": "histogram"
           }
          ],
          "histogram2d": [
           {
            "colorbar": {
             "outlinewidth": 0,
             "ticks": ""
            },
            "colorscale": [
             [
              0,
              "#0d0887"
             ],
             [
              0.1111111111111111,
              "#46039f"
             ],
             [
              0.2222222222222222,
              "#7201a8"
             ],
             [
              0.3333333333333333,
              "#9c179e"
             ],
             [
              0.4444444444444444,
              "#bd3786"
             ],
             [
              0.5555555555555556,
              "#d8576b"
             ],
             [
              0.6666666666666666,
              "#ed7953"
             ],
             [
              0.7777777777777778,
              "#fb9f3a"
             ],
             [
              0.8888888888888888,
              "#fdca26"
             ],
             [
              1,
              "#f0f921"
             ]
            ],
            "type": "histogram2d"
           }
          ],
          "histogram2dcontour": [
           {
            "colorbar": {
             "outlinewidth": 0,
             "ticks": ""
            },
            "colorscale": [
             [
              0,
              "#0d0887"
             ],
             [
              0.1111111111111111,
              "#46039f"
             ],
             [
              0.2222222222222222,
              "#7201a8"
             ],
             [
              0.3333333333333333,
              "#9c179e"
             ],
             [
              0.4444444444444444,
              "#bd3786"
             ],
             [
              0.5555555555555556,
              "#d8576b"
             ],
             [
              0.6666666666666666,
              "#ed7953"
             ],
             [
              0.7777777777777778,
              "#fb9f3a"
             ],
             [
              0.8888888888888888,
              "#fdca26"
             ],
             [
              1,
              "#f0f921"
             ]
            ],
            "type": "histogram2dcontour"
           }
          ],
          "mesh3d": [
           {
            "colorbar": {
             "outlinewidth": 0,
             "ticks": ""
            },
            "type": "mesh3d"
           }
          ],
          "parcoords": [
           {
            "line": {
             "colorbar": {
              "outlinewidth": 0,
              "ticks": ""
             }
            },
            "type": "parcoords"
           }
          ],
          "pie": [
           {
            "automargin": true,
            "type": "pie"
           }
          ],
          "scatter": [
           {
            "fillpattern": {
             "fillmode": "overlay",
             "size": 10,
             "solidity": 0.2
            },
            "type": "scatter"
           }
          ],
          "scatter3d": [
           {
            "line": {
             "colorbar": {
              "outlinewidth": 0,
              "ticks": ""
             }
            },
            "marker": {
             "colorbar": {
              "outlinewidth": 0,
              "ticks": ""
             }
            },
            "type": "scatter3d"
           }
          ],
          "scattercarpet": [
           {
            "marker": {
             "colorbar": {
              "outlinewidth": 0,
              "ticks": ""
             }
            },
            "type": "scattercarpet"
           }
          ],
          "scattergeo": [
           {
            "marker": {
             "colorbar": {
              "outlinewidth": 0,
              "ticks": ""
             }
            },
            "type": "scattergeo"
           }
          ],
          "scattergl": [
           {
            "marker": {
             "colorbar": {
              "outlinewidth": 0,
              "ticks": ""
             }
            },
            "type": "scattergl"
           }
          ],
          "scattermapbox": [
           {
            "marker": {
             "colorbar": {
              "outlinewidth": 0,
              "ticks": ""
             }
            },
            "type": "scattermapbox"
           }
          ],
          "scatterpolar": [
           {
            "marker": {
             "colorbar": {
              "outlinewidth": 0,
              "ticks": ""
             }
            },
            "type": "scatterpolar"
           }
          ],
          "scatterpolargl": [
           {
            "marker": {
             "colorbar": {
              "outlinewidth": 0,
              "ticks": ""
             }
            },
            "type": "scatterpolargl"
           }
          ],
          "scatterternary": [
           {
            "marker": {
             "colorbar": {
              "outlinewidth": 0,
              "ticks": ""
             }
            },
            "type": "scatterternary"
           }
          ],
          "surface": [
           {
            "colorbar": {
             "outlinewidth": 0,
             "ticks": ""
            },
            "colorscale": [
             [
              0,
              "#0d0887"
             ],
             [
              0.1111111111111111,
              "#46039f"
             ],
             [
              0.2222222222222222,
              "#7201a8"
             ],
             [
              0.3333333333333333,
              "#9c179e"
             ],
             [
              0.4444444444444444,
              "#bd3786"
             ],
             [
              0.5555555555555556,
              "#d8576b"
             ],
             [
              0.6666666666666666,
              "#ed7953"
             ],
             [
              0.7777777777777778,
              "#fb9f3a"
             ],
             [
              0.8888888888888888,
              "#fdca26"
             ],
             [
              1,
              "#f0f921"
             ]
            ],
            "type": "surface"
           }
          ],
          "table": [
           {
            "cells": {
             "fill": {
              "color": "#EBF0F8"
             },
             "line": {
              "color": "white"
             }
            },
            "header": {
             "fill": {
              "color": "#C8D4E3"
             },
             "line": {
              "color": "white"
             }
            },
            "type": "table"
           }
          ]
         },
         "layout": {
          "annotationdefaults": {
           "arrowcolor": "#2a3f5f",
           "arrowhead": 0,
           "arrowwidth": 1
          },
          "autotypenumbers": "strict",
          "coloraxis": {
           "colorbar": {
            "outlinewidth": 0,
            "ticks": ""
           }
          },
          "colorscale": {
           "diverging": [
            [
             0,
             "#8e0152"
            ],
            [
             0.1,
             "#c51b7d"
            ],
            [
             0.2,
             "#de77ae"
            ],
            [
             0.3,
             "#f1b6da"
            ],
            [
             0.4,
             "#fde0ef"
            ],
            [
             0.5,
             "#f7f7f7"
            ],
            [
             0.6,
             "#e6f5d0"
            ],
            [
             0.7,
             "#b8e186"
            ],
            [
             0.8,
             "#7fbc41"
            ],
            [
             0.9,
             "#4d9221"
            ],
            [
             1,
             "#276419"
            ]
           ],
           "sequential": [
            [
             0,
             "#0d0887"
            ],
            [
             0.1111111111111111,
             "#46039f"
            ],
            [
             0.2222222222222222,
             "#7201a8"
            ],
            [
             0.3333333333333333,
             "#9c179e"
            ],
            [
             0.4444444444444444,
             "#bd3786"
            ],
            [
             0.5555555555555556,
             "#d8576b"
            ],
            [
             0.6666666666666666,
             "#ed7953"
            ],
            [
             0.7777777777777778,
             "#fb9f3a"
            ],
            [
             0.8888888888888888,
             "#fdca26"
            ],
            [
             1,
             "#f0f921"
            ]
           ],
           "sequentialminus": [
            [
             0,
             "#0d0887"
            ],
            [
             0.1111111111111111,
             "#46039f"
            ],
            [
             0.2222222222222222,
             "#7201a8"
            ],
            [
             0.3333333333333333,
             "#9c179e"
            ],
            [
             0.4444444444444444,
             "#bd3786"
            ],
            [
             0.5555555555555556,
             "#d8576b"
            ],
            [
             0.6666666666666666,
             "#ed7953"
            ],
            [
             0.7777777777777778,
             "#fb9f3a"
            ],
            [
             0.8888888888888888,
             "#fdca26"
            ],
            [
             1,
             "#f0f921"
            ]
           ]
          },
          "colorway": [
           "#636efa",
           "#EF553B",
           "#00cc96",
           "#ab63fa",
           "#FFA15A",
           "#19d3f3",
           "#FF6692",
           "#B6E880",
           "#FF97FF",
           "#FECB52"
          ],
          "font": {
           "color": "#2a3f5f"
          },
          "geo": {
           "bgcolor": "white",
           "lakecolor": "white",
           "landcolor": "#E5ECF6",
           "showlakes": true,
           "showland": true,
           "subunitcolor": "white"
          },
          "hoverlabel": {
           "align": "left"
          },
          "hovermode": "closest",
          "mapbox": {
           "style": "light"
          },
          "paper_bgcolor": "white",
          "plot_bgcolor": "#E5ECF6",
          "polar": {
           "angularaxis": {
            "gridcolor": "white",
            "linecolor": "white",
            "ticks": ""
           },
           "bgcolor": "#E5ECF6",
           "radialaxis": {
            "gridcolor": "white",
            "linecolor": "white",
            "ticks": ""
           }
          },
          "scene": {
           "xaxis": {
            "backgroundcolor": "#E5ECF6",
            "gridcolor": "white",
            "gridwidth": 2,
            "linecolor": "white",
            "showbackground": true,
            "ticks": "",
            "zerolinecolor": "white"
           },
           "yaxis": {
            "backgroundcolor": "#E5ECF6",
            "gridcolor": "white",
            "gridwidth": 2,
            "linecolor": "white",
            "showbackground": true,
            "ticks": "",
            "zerolinecolor": "white"
           },
           "zaxis": {
            "backgroundcolor": "#E5ECF6",
            "gridcolor": "white",
            "gridwidth": 2,
            "linecolor": "white",
            "showbackground": true,
            "ticks": "",
            "zerolinecolor": "white"
           }
          },
          "shapedefaults": {
           "line": {
            "color": "#2a3f5f"
           }
          },
          "ternary": {
           "aaxis": {
            "gridcolor": "white",
            "linecolor": "white",
            "ticks": ""
           },
           "baxis": {
            "gridcolor": "white",
            "linecolor": "white",
            "ticks": ""
           },
           "bgcolor": "#E5ECF6",
           "caxis": {
            "gridcolor": "white",
            "linecolor": "white",
            "ticks": ""
           }
          },
          "title": {
           "x": 0.05
          },
          "xaxis": {
           "automargin": true,
           "gridcolor": "white",
           "linecolor": "white",
           "ticks": "",
           "title": {
            "standoff": 15
           },
           "zerolinecolor": "white",
           "zerolinewidth": 2
          },
          "yaxis": {
           "automargin": true,
           "gridcolor": "white",
           "linecolor": "white",
           "ticks": "",
           "title": {
            "standoff": 15
           },
           "zerolinecolor": "white",
           "zerolinewidth": 2
          }
         }
        },
        "xaxis": {
         "anchor": "y",
         "domain": [
          0,
          1
         ],
         "title": {
          "text": "product_category_name_english"
         }
        },
        "yaxis": {
         "anchor": "x",
         "domain": [
          0,
          1
         ],
         "title": {
          "text": "count"
         }
        }
       }
      }
     },
     "metadata": {},
     "output_type": "display_data"
    },
    {
     "data": {
      "application/vnd.plotly.v1+json": {
       "config": {
        "plotlyServerURL": "https://plot.ly"
       },
       "data": [
        {
         "alignmentgroup": "True",
         "bingroup": "x",
         "hovertemplate": "product_category_name_english=health_beauty<br>product_category_name=%{x}<br>count=%{y}<extra></extra>",
         "legendgroup": "health_beauty",
         "marker": {
          "color": "#636efa",
          "pattern": {
           "shape": ""
          }
         },
         "name": "health_beauty",
         "offsetgroup": "health_beauty",
         "orientation": "v",
         "showlegend": true,
         "type": "histogram",
         "x": [
          "beleza_saude"
         ],
         "xaxis": "x",
         "yaxis": "y"
        },
        {
         "alignmentgroup": "True",
         "bingroup": "x",
         "hovertemplate": "product_category_name_english=computers_accessories<br>product_category_name=%{x}<br>count=%{y}<extra></extra>",
         "legendgroup": "computers_accessories",
         "marker": {
          "color": "#EF553B",
          "pattern": {
           "shape": ""
          }
         },
         "name": "computers_accessories",
         "offsetgroup": "computers_accessories",
         "orientation": "v",
         "showlegend": true,
         "type": "histogram",
         "x": [
          "informatica_acessorios"
         ],
         "xaxis": "x",
         "yaxis": "y"
        },
        {
         "alignmentgroup": "True",
         "bingroup": "x",
         "hovertemplate": "product_category_name_english=auto<br>product_category_name=%{x}<br>count=%{y}<extra></extra>",
         "legendgroup": "auto",
         "marker": {
          "color": "#00cc96",
          "pattern": {
           "shape": ""
          }
         },
         "name": "auto",
         "offsetgroup": "auto",
         "orientation": "v",
         "showlegend": true,
         "type": "histogram",
         "x": [
          "automotivo"
         ],
         "xaxis": "x",
         "yaxis": "y"
        },
        {
         "alignmentgroup": "True",
         "bingroup": "x",
         "hovertemplate": "product_category_name_english=bed_bath_table<br>product_category_name=%{x}<br>count=%{y}<extra></extra>",
         "legendgroup": "bed_bath_table",
         "marker": {
          "color": "#ab63fa",
          "pattern": {
           "shape": ""
          }
         },
         "name": "bed_bath_table",
         "offsetgroup": "bed_bath_table",
         "orientation": "v",
         "showlegend": true,
         "type": "histogram",
         "x": [
          "cama_mesa_banho"
         ],
         "xaxis": "x",
         "yaxis": "y"
        },
        {
         "alignmentgroup": "True",
         "bingroup": "x",
         "hovertemplate": "product_category_name_english=furniture_decor<br>product_category_name=%{x}<br>count=%{y}<extra></extra>",
         "legendgroup": "furniture_decor",
         "marker": {
          "color": "#FFA15A",
          "pattern": {
           "shape": ""
          }
         },
         "name": "furniture_decor",
         "offsetgroup": "furniture_decor",
         "orientation": "v",
         "showlegend": true,
         "type": "histogram",
         "x": [
          "moveis_decoracao"
         ],
         "xaxis": "x",
         "yaxis": "y"
        },
        {
         "alignmentgroup": "True",
         "bingroup": "x",
         "hovertemplate": "product_category_name_english=sports_leisure<br>product_category_name=%{x}<br>count=%{y}<extra></extra>",
         "legendgroup": "sports_leisure",
         "marker": {
          "color": "#19d3f3",
          "pattern": {
           "shape": ""
          }
         },
         "name": "sports_leisure",
         "offsetgroup": "sports_leisure",
         "orientation": "v",
         "showlegend": true,
         "type": "histogram",
         "x": [
          "esporte_lazer"
         ],
         "xaxis": "x",
         "yaxis": "y"
        },
        {
         "alignmentgroup": "True",
         "bingroup": "x",
         "hovertemplate": "product_category_name_english=perfumery<br>product_category_name=%{x}<br>count=%{y}<extra></extra>",
         "legendgroup": "perfumery",
         "marker": {
          "color": "#FF6692",
          "pattern": {
           "shape": ""
          }
         },
         "name": "perfumery",
         "offsetgroup": "perfumery",
         "orientation": "v",
         "showlegend": true,
         "type": "histogram",
         "x": [
          "perfumaria"
         ],
         "xaxis": "x",
         "yaxis": "y"
        },
        {
         "alignmentgroup": "True",
         "bingroup": "x",
         "hovertemplate": "product_category_name_english=housewares<br>product_category_name=%{x}<br>count=%{y}<extra></extra>",
         "legendgroup": "housewares",
         "marker": {
          "color": "#B6E880",
          "pattern": {
           "shape": ""
          }
         },
         "name": "housewares",
         "offsetgroup": "housewares",
         "orientation": "v",
         "showlegend": true,
         "type": "histogram",
         "x": [
          "utilidades_domesticas"
         ],
         "xaxis": "x",
         "yaxis": "y"
        },
        {
         "alignmentgroup": "True",
         "bingroup": "x",
         "hovertemplate": "product_category_name_english=telephony<br>product_category_name=%{x}<br>count=%{y}<extra></extra>",
         "legendgroup": "telephony",
         "marker": {
          "color": "#FF97FF",
          "pattern": {
           "shape": ""
          }
         },
         "name": "telephony",
         "offsetgroup": "telephony",
         "orientation": "v",
         "showlegend": true,
         "type": "histogram",
         "x": [
          "telefonia"
         ],
         "xaxis": "x",
         "yaxis": "y"
        },
        {
         "alignmentgroup": "True",
         "bingroup": "x",
         "hovertemplate": "product_category_name_english=watches_gifts<br>product_category_name=%{x}<br>count=%{y}<extra></extra>",
         "legendgroup": "watches_gifts",
         "marker": {
          "color": "#FECB52",
          "pattern": {
           "shape": ""
          }
         },
         "name": "watches_gifts",
         "offsetgroup": "watches_gifts",
         "orientation": "v",
         "showlegend": true,
         "type": "histogram",
         "x": [
          "relogios_presentes"
         ],
         "xaxis": "x",
         "yaxis": "y"
        },
        {
         "alignmentgroup": "True",
         "bingroup": "x",
         "hovertemplate": "product_category_name_english=food_drink<br>product_category_name=%{x}<br>count=%{y}<extra></extra>",
         "legendgroup": "food_drink",
         "marker": {
          "color": "#636efa",
          "pattern": {
           "shape": ""
          }
         },
         "name": "food_drink",
         "offsetgroup": "food_drink",
         "orientation": "v",
         "showlegend": true,
         "type": "histogram",
         "x": [
          "alimentos_bebidas"
         ],
         "xaxis": "x",
         "yaxis": "y"
        },
        {
         "alignmentgroup": "True",
         "bingroup": "x",
         "hovertemplate": "product_category_name_english=baby<br>product_category_name=%{x}<br>count=%{y}<extra></extra>",
         "legendgroup": "baby",
         "marker": {
          "color": "#EF553B",
          "pattern": {
           "shape": ""
          }
         },
         "name": "baby",
         "offsetgroup": "baby",
         "orientation": "v",
         "showlegend": true,
         "type": "histogram",
         "x": [
          "bebes"
         ],
         "xaxis": "x",
         "yaxis": "y"
        },
        {
         "alignmentgroup": "True",
         "bingroup": "x",
         "hovertemplate": "product_category_name_english=stationery<br>product_category_name=%{x}<br>count=%{y}<extra></extra>",
         "legendgroup": "stationery",
         "marker": {
          "color": "#00cc96",
          "pattern": {
           "shape": ""
          }
         },
         "name": "stationery",
         "offsetgroup": "stationery",
         "orientation": "v",
         "showlegend": true,
         "type": "histogram",
         "x": [
          "papelaria"
         ],
         "xaxis": "x",
         "yaxis": "y"
        },
        {
         "alignmentgroup": "True",
         "bingroup": "x",
         "hovertemplate": "product_category_name_english=tablets_printing_image<br>product_category_name=%{x}<br>count=%{y}<extra></extra>",
         "legendgroup": "tablets_printing_image",
         "marker": {
          "color": "#ab63fa",
          "pattern": {
           "shape": ""
          }
         },
         "name": "tablets_printing_image",
         "offsetgroup": "tablets_printing_image",
         "orientation": "v",
         "showlegend": true,
         "type": "histogram",
         "x": [
          "tablets_impressao_imagem"
         ],
         "xaxis": "x",
         "yaxis": "y"
        },
        {
         "alignmentgroup": "True",
         "bingroup": "x",
         "hovertemplate": "product_category_name_english=toys<br>product_category_name=%{x}<br>count=%{y}<extra></extra>",
         "legendgroup": "toys",
         "marker": {
          "color": "#FFA15A",
          "pattern": {
           "shape": ""
          }
         },
         "name": "toys",
         "offsetgroup": "toys",
         "orientation": "v",
         "showlegend": true,
         "type": "histogram",
         "x": [
          "brinquedos"
         ],
         "xaxis": "x",
         "yaxis": "y"
        },
        {
         "alignmentgroup": "True",
         "bingroup": "x",
         "hovertemplate": "product_category_name_english=fixed_telephony<br>product_category_name=%{x}<br>count=%{y}<extra></extra>",
         "legendgroup": "fixed_telephony",
         "marker": {
          "color": "#19d3f3",
          "pattern": {
           "shape": ""
          }
         },
         "name": "fixed_telephony",
         "offsetgroup": "fixed_telephony",
         "orientation": "v",
         "showlegend": true,
         "type": "histogram",
         "x": [
          "telefonia_fixa"
         ],
         "xaxis": "x",
         "yaxis": "y"
        },
        {
         "alignmentgroup": "True",
         "bingroup": "x",
         "hovertemplate": "product_category_name_english=garden_tools<br>product_category_name=%{x}<br>count=%{y}<extra></extra>",
         "legendgroup": "garden_tools",
         "marker": {
          "color": "#FF6692",
          "pattern": {
           "shape": ""
          }
         },
         "name": "garden_tools",
         "offsetgroup": "garden_tools",
         "orientation": "v",
         "showlegend": true,
         "type": "histogram",
         "x": [
          "ferramentas_jardim"
         ],
         "xaxis": "x",
         "yaxis": "y"
        },
        {
         "alignmentgroup": "True",
         "bingroup": "x",
         "hovertemplate": "product_category_name_english=fashion_bags_accessories<br>product_category_name=%{x}<br>count=%{y}<extra></extra>",
         "legendgroup": "fashion_bags_accessories",
         "marker": {
          "color": "#B6E880",
          "pattern": {
           "shape": ""
          }
         },
         "name": "fashion_bags_accessories",
         "offsetgroup": "fashion_bags_accessories",
         "orientation": "v",
         "showlegend": true,
         "type": "histogram",
         "x": [
          "fashion_bolsas_e_acessorios"
         ],
         "xaxis": "x",
         "yaxis": "y"
        },
        {
         "alignmentgroup": "True",
         "bingroup": "x",
         "hovertemplate": "product_category_name_english=small_appliances<br>product_category_name=%{x}<br>count=%{y}<extra></extra>",
         "legendgroup": "small_appliances",
         "marker": {
          "color": "#FF97FF",
          "pattern": {
           "shape": ""
          }
         },
         "name": "small_appliances",
         "offsetgroup": "small_appliances",
         "orientation": "v",
         "showlegend": true,
         "type": "histogram",
         "x": [
          "eletroportateis"
         ],
         "xaxis": "x",
         "yaxis": "y"
        },
        {
         "alignmentgroup": "True",
         "bingroup": "x",
         "hovertemplate": "product_category_name_english=consoles_games<br>product_category_name=%{x}<br>count=%{y}<extra></extra>",
         "legendgroup": "consoles_games",
         "marker": {
          "color": "#FECB52",
          "pattern": {
           "shape": ""
          }
         },
         "name": "consoles_games",
         "offsetgroup": "consoles_games",
         "orientation": "v",
         "showlegend": true,
         "type": "histogram",
         "x": [
          "consoles_games"
         ],
         "xaxis": "x",
         "yaxis": "y"
        },
        {
         "alignmentgroup": "True",
         "bingroup": "x",
         "hovertemplate": "product_category_name_english=audio<br>product_category_name=%{x}<br>count=%{y}<extra></extra>",
         "legendgroup": "audio",
         "marker": {
          "color": "#636efa",
          "pattern": {
           "shape": ""
          }
         },
         "name": "audio",
         "offsetgroup": "audio",
         "orientation": "v",
         "showlegend": true,
         "type": "histogram",
         "x": [
          "audio"
         ],
         "xaxis": "x",
         "yaxis": "y"
        },
        {
         "alignmentgroup": "True",
         "bingroup": "x",
         "hovertemplate": "product_category_name_english=fashion_shoes<br>product_category_name=%{x}<br>count=%{y}<extra></extra>",
         "legendgroup": "fashion_shoes",
         "marker": {
          "color": "#EF553B",
          "pattern": {
           "shape": ""
          }
         },
         "name": "fashion_shoes",
         "offsetgroup": "fashion_shoes",
         "orientation": "v",
         "showlegend": true,
         "type": "histogram",
         "x": [
          "fashion_calcados"
         ],
         "xaxis": "x",
         "yaxis": "y"
        },
        {
         "alignmentgroup": "True",
         "bingroup": "x",
         "hovertemplate": "product_category_name_english=cool_stuff<br>product_category_name=%{x}<br>count=%{y}<extra></extra>",
         "legendgroup": "cool_stuff",
         "marker": {
          "color": "#00cc96",
          "pattern": {
           "shape": ""
          }
         },
         "name": "cool_stuff",
         "offsetgroup": "cool_stuff",
         "orientation": "v",
         "showlegend": true,
         "type": "histogram",
         "x": [
          "cool_stuff"
         ],
         "xaxis": "x",
         "yaxis": "y"
        },
        {
         "alignmentgroup": "True",
         "bingroup": "x",
         "hovertemplate": "product_category_name_english=luggage_accessories<br>product_category_name=%{x}<br>count=%{y}<extra></extra>",
         "legendgroup": "luggage_accessories",
         "marker": {
          "color": "#ab63fa",
          "pattern": {
           "shape": ""
          }
         },
         "name": "luggage_accessories",
         "offsetgroup": "luggage_accessories",
         "orientation": "v",
         "showlegend": true,
         "type": "histogram",
         "x": [
          "malas_acessorios"
         ],
         "xaxis": "x",
         "yaxis": "y"
        },
        {
         "alignmentgroup": "True",
         "bingroup": "x",
         "hovertemplate": "product_category_name_english=air_conditioning<br>product_category_name=%{x}<br>count=%{y}<extra></extra>",
         "legendgroup": "air_conditioning",
         "marker": {
          "color": "#FFA15A",
          "pattern": {
           "shape": ""
          }
         },
         "name": "air_conditioning",
         "offsetgroup": "air_conditioning",
         "orientation": "v",
         "showlegend": true,
         "type": "histogram",
         "x": [
          "climatizacao"
         ],
         "xaxis": "x",
         "yaxis": "y"
        },
        {
         "alignmentgroup": "True",
         "bingroup": "x",
         "hovertemplate": "product_category_name_english=construction_tools_construction<br>product_category_name=%{x}<br>count=%{y}<extra></extra>",
         "legendgroup": "construction_tools_construction",
         "marker": {
          "color": "#19d3f3",
          "pattern": {
           "shape": ""
          }
         },
         "name": "construction_tools_construction",
         "offsetgroup": "construction_tools_construction",
         "orientation": "v",
         "showlegend": true,
         "type": "histogram",
         "x": [
          "construcao_ferramentas_construcao"
         ],
         "xaxis": "x",
         "yaxis": "y"
        },
        {
         "alignmentgroup": "True",
         "bingroup": "x",
         "hovertemplate": "product_category_name_english=kitchen_dining_laundry_garden_furniture<br>product_category_name=%{x}<br>count=%{y}<extra></extra>",
         "legendgroup": "kitchen_dining_laundry_garden_furniture",
         "marker": {
          "color": "#FF6692",
          "pattern": {
           "shape": ""
          }
         },
         "name": "kitchen_dining_laundry_garden_furniture",
         "offsetgroup": "kitchen_dining_laundry_garden_furniture",
         "orientation": "v",
         "showlegend": true,
         "type": "histogram",
         "x": [
          "moveis_cozinha_area_de_servico_jantar_e_jardim"
         ],
         "xaxis": "x",
         "yaxis": "y"
        },
        {
         "alignmentgroup": "True",
         "bingroup": "x",
         "hovertemplate": "product_category_name_english=costruction_tools_garden<br>product_category_name=%{x}<br>count=%{y}<extra></extra>",
         "legendgroup": "costruction_tools_garden",
         "marker": {
          "color": "#B6E880",
          "pattern": {
           "shape": ""
          }
         },
         "name": "costruction_tools_garden",
         "offsetgroup": "costruction_tools_garden",
         "orientation": "v",
         "showlegend": true,
         "type": "histogram",
         "x": [
          "construcao_ferramentas_jardim"
         ],
         "xaxis": "x",
         "yaxis": "y"
        },
        {
         "alignmentgroup": "True",
         "bingroup": "x",
         "hovertemplate": "product_category_name_english=fashion_male_clothing<br>product_category_name=%{x}<br>count=%{y}<extra></extra>",
         "legendgroup": "fashion_male_clothing",
         "marker": {
          "color": "#FF97FF",
          "pattern": {
           "shape": ""
          }
         },
         "name": "fashion_male_clothing",
         "offsetgroup": "fashion_male_clothing",
         "orientation": "v",
         "showlegend": true,
         "type": "histogram",
         "x": [
          "fashion_roupa_masculina"
         ],
         "xaxis": "x",
         "yaxis": "y"
        },
        {
         "alignmentgroup": "True",
         "bingroup": "x",
         "hovertemplate": "product_category_name_english=pet_shop<br>product_category_name=%{x}<br>count=%{y}<extra></extra>",
         "legendgroup": "pet_shop",
         "marker": {
          "color": "#FECB52",
          "pattern": {
           "shape": ""
          }
         },
         "name": "pet_shop",
         "offsetgroup": "pet_shop",
         "orientation": "v",
         "showlegend": true,
         "type": "histogram",
         "x": [
          "pet_shop"
         ],
         "xaxis": "x",
         "yaxis": "y"
        },
        {
         "alignmentgroup": "True",
         "bingroup": "x",
         "hovertemplate": "product_category_name_english=office_furniture<br>product_category_name=%{x}<br>count=%{y}<extra></extra>",
         "legendgroup": "office_furniture",
         "marker": {
          "color": "#636efa",
          "pattern": {
           "shape": ""
          }
         },
         "name": "office_furniture",
         "offsetgroup": "office_furniture",
         "orientation": "v",
         "showlegend": true,
         "type": "histogram",
         "x": [
          "moveis_escritorio"
         ],
         "xaxis": "x",
         "yaxis": "y"
        },
        {
         "alignmentgroup": "True",
         "bingroup": "x",
         "hovertemplate": "product_category_name_english=market_place<br>product_category_name=%{x}<br>count=%{y}<extra></extra>",
         "legendgroup": "market_place",
         "marker": {
          "color": "#EF553B",
          "pattern": {
           "shape": ""
          }
         },
         "name": "market_place",
         "offsetgroup": "market_place",
         "orientation": "v",
         "showlegend": true,
         "type": "histogram",
         "x": [
          "market_place"
         ],
         "xaxis": "x",
         "yaxis": "y"
        },
        {
         "alignmentgroup": "True",
         "bingroup": "x",
         "hovertemplate": "product_category_name_english=electronics<br>product_category_name=%{x}<br>count=%{y}<extra></extra>",
         "legendgroup": "electronics",
         "marker": {
          "color": "#00cc96",
          "pattern": {
           "shape": ""
          }
         },
         "name": "electronics",
         "offsetgroup": "electronics",
         "orientation": "v",
         "showlegend": true,
         "type": "histogram",
         "x": [
          "eletronicos"
         ],
         "xaxis": "x",
         "yaxis": "y"
        },
        {
         "alignmentgroup": "True",
         "bingroup": "x",
         "hovertemplate": "product_category_name_english=home_appliances<br>product_category_name=%{x}<br>count=%{y}<extra></extra>",
         "legendgroup": "home_appliances",
         "marker": {
          "color": "#ab63fa",
          "pattern": {
           "shape": ""
          }
         },
         "name": "home_appliances",
         "offsetgroup": "home_appliances",
         "orientation": "v",
         "showlegend": true,
         "type": "histogram",
         "x": [
          "eletrodomesticos"
         ],
         "xaxis": "x",
         "yaxis": "y"
        },
        {
         "alignmentgroup": "True",
         "bingroup": "x",
         "hovertemplate": "product_category_name_english=party_supplies<br>product_category_name=%{x}<br>count=%{y}<extra></extra>",
         "legendgroup": "party_supplies",
         "marker": {
          "color": "#FFA15A",
          "pattern": {
           "shape": ""
          }
         },
         "name": "party_supplies",
         "offsetgroup": "party_supplies",
         "orientation": "v",
         "showlegend": true,
         "type": "histogram",
         "x": [
          "artigos_de_festas"
         ],
         "xaxis": "x",
         "yaxis": "y"
        },
        {
         "alignmentgroup": "True",
         "bingroup": "x",
         "hovertemplate": "product_category_name_english=home_confort<br>product_category_name=%{x}<br>count=%{y}<extra></extra>",
         "legendgroup": "home_confort",
         "marker": {
          "color": "#19d3f3",
          "pattern": {
           "shape": ""
          }
         },
         "name": "home_confort",
         "offsetgroup": "home_confort",
         "orientation": "v",
         "showlegend": true,
         "type": "histogram",
         "x": [
          "casa_conforto"
         ],
         "xaxis": "x",
         "yaxis": "y"
        },
        {
         "alignmentgroup": "True",
         "bingroup": "x",
         "hovertemplate": "product_category_name_english=costruction_tools_tools<br>product_category_name=%{x}<br>count=%{y}<extra></extra>",
         "legendgroup": "costruction_tools_tools",
         "marker": {
          "color": "#FF6692",
          "pattern": {
           "shape": ""
          }
         },
         "name": "costruction_tools_tools",
         "offsetgroup": "costruction_tools_tools",
         "orientation": "v",
         "showlegend": true,
         "type": "histogram",
         "x": [
          "construcao_ferramentas_ferramentas"
         ],
         "xaxis": "x",
         "yaxis": "y"
        },
        {
         "alignmentgroup": "True",
         "bingroup": "x",
         "hovertemplate": "product_category_name_english=agro_industry_and_commerce<br>product_category_name=%{x}<br>count=%{y}<extra></extra>",
         "legendgroup": "agro_industry_and_commerce",
         "marker": {
          "color": "#B6E880",
          "pattern": {
           "shape": ""
          }
         },
         "name": "agro_industry_and_commerce",
         "offsetgroup": "agro_industry_and_commerce",
         "orientation": "v",
         "showlegend": true,
         "type": "histogram",
         "x": [
          "agro_industria_e_comercio"
         ],
         "xaxis": "x",
         "yaxis": "y"
        },
        {
         "alignmentgroup": "True",
         "bingroup": "x",
         "hovertemplate": "product_category_name_english=furniture_mattress_and_upholstery<br>product_category_name=%{x}<br>count=%{y}<extra></extra>",
         "legendgroup": "furniture_mattress_and_upholstery",
         "marker": {
          "color": "#FF97FF",
          "pattern": {
           "shape": ""
          }
         },
         "name": "furniture_mattress_and_upholstery",
         "offsetgroup": "furniture_mattress_and_upholstery",
         "orientation": "v",
         "showlegend": true,
         "type": "histogram",
         "x": [
          "moveis_colchao_e_estofado"
         ],
         "xaxis": "x",
         "yaxis": "y"
        },
        {
         "alignmentgroup": "True",
         "bingroup": "x",
         "hovertemplate": "product_category_name_english=books_technical<br>product_category_name=%{x}<br>count=%{y}<extra></extra>",
         "legendgroup": "books_technical",
         "marker": {
          "color": "#FECB52",
          "pattern": {
           "shape": ""
          }
         },
         "name": "books_technical",
         "offsetgroup": "books_technical",
         "orientation": "v",
         "showlegend": true,
         "type": "histogram",
         "x": [
          "livros_tecnicos"
         ],
         "xaxis": "x",
         "yaxis": "y"
        },
        {
         "alignmentgroup": "True",
         "bingroup": "x",
         "hovertemplate": "product_category_name_english=home_construction<br>product_category_name=%{x}<br>count=%{y}<extra></extra>",
         "legendgroup": "home_construction",
         "marker": {
          "color": "#636efa",
          "pattern": {
           "shape": ""
          }
         },
         "name": "home_construction",
         "offsetgroup": "home_construction",
         "orientation": "v",
         "showlegend": true,
         "type": "histogram",
         "x": [
          "casa_construcao"
         ],
         "xaxis": "x",
         "yaxis": "y"
        },
        {
         "alignmentgroup": "True",
         "bingroup": "x",
         "hovertemplate": "product_category_name_english=musical_instruments<br>product_category_name=%{x}<br>count=%{y}<extra></extra>",
         "legendgroup": "musical_instruments",
         "marker": {
          "color": "#EF553B",
          "pattern": {
           "shape": ""
          }
         },
         "name": "musical_instruments",
         "offsetgroup": "musical_instruments",
         "orientation": "v",
         "showlegend": true,
         "type": "histogram",
         "x": [
          "instrumentos_musicais"
         ],
         "xaxis": "x",
         "yaxis": "y"
        },
        {
         "alignmentgroup": "True",
         "bingroup": "x",
         "hovertemplate": "product_category_name_english=furniture_living_room<br>product_category_name=%{x}<br>count=%{y}<extra></extra>",
         "legendgroup": "furniture_living_room",
         "marker": {
          "color": "#00cc96",
          "pattern": {
           "shape": ""
          }
         },
         "name": "furniture_living_room",
         "offsetgroup": "furniture_living_room",
         "orientation": "v",
         "showlegend": true,
         "type": "histogram",
         "x": [
          "moveis_sala"
         ],
         "xaxis": "x",
         "yaxis": "y"
        },
        {
         "alignmentgroup": "True",
         "bingroup": "x",
         "hovertemplate": "product_category_name_english=construction_tools_lights<br>product_category_name=%{x}<br>count=%{y}<extra></extra>",
         "legendgroup": "construction_tools_lights",
         "marker": {
          "color": "#ab63fa",
          "pattern": {
           "shape": ""
          }
         },
         "name": "construction_tools_lights",
         "offsetgroup": "construction_tools_lights",
         "orientation": "v",
         "showlegend": true,
         "type": "histogram",
         "x": [
          "construcao_ferramentas_iluminacao"
         ],
         "xaxis": "x",
         "yaxis": "y"
        },
        {
         "alignmentgroup": "True",
         "bingroup": "x",
         "hovertemplate": "product_category_name_english=industry_commerce_and_business<br>product_category_name=%{x}<br>count=%{y}<extra></extra>",
         "legendgroup": "industry_commerce_and_business",
         "marker": {
          "color": "#FFA15A",
          "pattern": {
           "shape": ""
          }
         },
         "name": "industry_commerce_and_business",
         "offsetgroup": "industry_commerce_and_business",
         "orientation": "v",
         "showlegend": true,
         "type": "histogram",
         "x": [
          "industria_comercio_e_negocios"
         ],
         "xaxis": "x",
         "yaxis": "y"
        },
        {
         "alignmentgroup": "True",
         "bingroup": "x",
         "hovertemplate": "product_category_name_english=food<br>product_category_name=%{x}<br>count=%{y}<extra></extra>",
         "legendgroup": "food",
         "marker": {
          "color": "#19d3f3",
          "pattern": {
           "shape": ""
          }
         },
         "name": "food",
         "offsetgroup": "food",
         "orientation": "v",
         "showlegend": true,
         "type": "histogram",
         "x": [
          "alimentos"
         ],
         "xaxis": "x",
         "yaxis": "y"
        },
        {
         "alignmentgroup": "True",
         "bingroup": "x",
         "hovertemplate": "product_category_name_english=art<br>product_category_name=%{x}<br>count=%{y}<extra></extra>",
         "legendgroup": "art",
         "marker": {
          "color": "#FF6692",
          "pattern": {
           "shape": ""
          }
         },
         "name": "art",
         "offsetgroup": "art",
         "orientation": "v",
         "showlegend": true,
         "type": "histogram",
         "x": [
          "artes"
         ],
         "xaxis": "x",
         "yaxis": "y"
        },
        {
         "alignmentgroup": "True",
         "bingroup": "x",
         "hovertemplate": "product_category_name_english=furniture_bedroom<br>product_category_name=%{x}<br>count=%{y}<extra></extra>",
         "legendgroup": "furniture_bedroom",
         "marker": {
          "color": "#B6E880",
          "pattern": {
           "shape": ""
          }
         },
         "name": "furniture_bedroom",
         "offsetgroup": "furniture_bedroom",
         "orientation": "v",
         "showlegend": true,
         "type": "histogram",
         "x": [
          "moveis_quarto"
         ],
         "xaxis": "x",
         "yaxis": "y"
        },
        {
         "alignmentgroup": "True",
         "bingroup": "x",
         "hovertemplate": "product_category_name_english=books_general_interest<br>product_category_name=%{x}<br>count=%{y}<extra></extra>",
         "legendgroup": "books_general_interest",
         "marker": {
          "color": "#FF97FF",
          "pattern": {
           "shape": ""
          }
         },
         "name": "books_general_interest",
         "offsetgroup": "books_general_interest",
         "orientation": "v",
         "showlegend": true,
         "type": "histogram",
         "x": [
          "livros_interesse_geral"
         ],
         "xaxis": "x",
         "yaxis": "y"
        },
        {
         "alignmentgroup": "True",
         "bingroup": "x",
         "hovertemplate": "product_category_name_english=construction_tools_safety<br>product_category_name=%{x}<br>count=%{y}<extra></extra>",
         "legendgroup": "construction_tools_safety",
         "marker": {
          "color": "#FECB52",
          "pattern": {
           "shape": ""
          }
         },
         "name": "construction_tools_safety",
         "offsetgroup": "construction_tools_safety",
         "orientation": "v",
         "showlegend": true,
         "type": "histogram",
         "x": [
          "construcao_ferramentas_seguranca"
         ],
         "xaxis": "x",
         "yaxis": "y"
        },
        {
         "alignmentgroup": "True",
         "bingroup": "x",
         "hovertemplate": "product_category_name_english=fashion_underwear_beach<br>product_category_name=%{x}<br>count=%{y}<extra></extra>",
         "legendgroup": "fashion_underwear_beach",
         "marker": {
          "color": "#636efa",
          "pattern": {
           "shape": ""
          }
         },
         "name": "fashion_underwear_beach",
         "offsetgroup": "fashion_underwear_beach",
         "orientation": "v",
         "showlegend": true,
         "type": "histogram",
         "x": [
          "fashion_underwear_e_moda_praia"
         ],
         "xaxis": "x",
         "yaxis": "y"
        },
        {
         "alignmentgroup": "True",
         "bingroup": "x",
         "hovertemplate": "product_category_name_english=fashion_sport<br>product_category_name=%{x}<br>count=%{y}<extra></extra>",
         "legendgroup": "fashion_sport",
         "marker": {
          "color": "#EF553B",
          "pattern": {
           "shape": ""
          }
         },
         "name": "fashion_sport",
         "offsetgroup": "fashion_sport",
         "orientation": "v",
         "showlegend": true,
         "type": "histogram",
         "x": [
          "fashion_esporte"
         ],
         "xaxis": "x",
         "yaxis": "y"
        },
        {
         "alignmentgroup": "True",
         "bingroup": "x",
         "hovertemplate": "product_category_name_english=signaling_and_security<br>product_category_name=%{x}<br>count=%{y}<extra></extra>",
         "legendgroup": "signaling_and_security",
         "marker": {
          "color": "#00cc96",
          "pattern": {
           "shape": ""
          }
         },
         "name": "signaling_and_security",
         "offsetgroup": "signaling_and_security",
         "orientation": "v",
         "showlegend": true,
         "type": "histogram",
         "x": [
          "sinalizacao_e_seguranca"
         ],
         "xaxis": "x",
         "yaxis": "y"
        },
        {
         "alignmentgroup": "True",
         "bingroup": "x",
         "hovertemplate": "product_category_name_english=computers<br>product_category_name=%{x}<br>count=%{y}<extra></extra>",
         "legendgroup": "computers",
         "marker": {
          "color": "#ab63fa",
          "pattern": {
           "shape": ""
          }
         },
         "name": "computers",
         "offsetgroup": "computers",
         "orientation": "v",
         "showlegend": true,
         "type": "histogram",
         "x": [
          "pcs"
         ],
         "xaxis": "x",
         "yaxis": "y"
        },
        {
         "alignmentgroup": "True",
         "bingroup": "x",
         "hovertemplate": "product_category_name_english=christmas_supplies<br>product_category_name=%{x}<br>count=%{y}<extra></extra>",
         "legendgroup": "christmas_supplies",
         "marker": {
          "color": "#FFA15A",
          "pattern": {
           "shape": ""
          }
         },
         "name": "christmas_supplies",
         "offsetgroup": "christmas_supplies",
         "orientation": "v",
         "showlegend": true,
         "type": "histogram",
         "x": [
          "artigos_de_natal"
         ],
         "xaxis": "x",
         "yaxis": "y"
        },
        {
         "alignmentgroup": "True",
         "bingroup": "x",
         "hovertemplate": "product_category_name_english=fashio_female_clothing<br>product_category_name=%{x}<br>count=%{y}<extra></extra>",
         "legendgroup": "fashio_female_clothing",
         "marker": {
          "color": "#19d3f3",
          "pattern": {
           "shape": ""
          }
         },
         "name": "fashio_female_clothing",
         "offsetgroup": "fashio_female_clothing",
         "orientation": "v",
         "showlegend": true,
         "type": "histogram",
         "x": [
          "fashion_roupa_feminina"
         ],
         "xaxis": "x",
         "yaxis": "y"
        },
        {
         "alignmentgroup": "True",
         "bingroup": "x",
         "hovertemplate": "product_category_name_english=home_appliances_2<br>product_category_name=%{x}<br>count=%{y}<extra></extra>",
         "legendgroup": "home_appliances_2",
         "marker": {
          "color": "#FF6692",
          "pattern": {
           "shape": ""
          }
         },
         "name": "home_appliances_2",
         "offsetgroup": "home_appliances_2",
         "orientation": "v",
         "showlegend": true,
         "type": "histogram",
         "x": [
          "eletrodomesticos_2"
         ],
         "xaxis": "x",
         "yaxis": "y"
        },
        {
         "alignmentgroup": "True",
         "bingroup": "x",
         "hovertemplate": "product_category_name_english=books_imported<br>product_category_name=%{x}<br>count=%{y}<extra></extra>",
         "legendgroup": "books_imported",
         "marker": {
          "color": "#B6E880",
          "pattern": {
           "shape": ""
          }
         },
         "name": "books_imported",
         "offsetgroup": "books_imported",
         "orientation": "v",
         "showlegend": true,
         "type": "histogram",
         "x": [
          "livros_importados"
         ],
         "xaxis": "x",
         "yaxis": "y"
        },
        {
         "alignmentgroup": "True",
         "bingroup": "x",
         "hovertemplate": "product_category_name_english=drinks<br>product_category_name=%{x}<br>count=%{y}<extra></extra>",
         "legendgroup": "drinks",
         "marker": {
          "color": "#FF97FF",
          "pattern": {
           "shape": ""
          }
         },
         "name": "drinks",
         "offsetgroup": "drinks",
         "orientation": "v",
         "showlegend": true,
         "type": "histogram",
         "x": [
          "bebidas"
         ],
         "xaxis": "x",
         "yaxis": "y"
        },
        {
         "alignmentgroup": "True",
         "bingroup": "x",
         "hovertemplate": "product_category_name_english=cine_photo<br>product_category_name=%{x}<br>count=%{y}<extra></extra>",
         "legendgroup": "cine_photo",
         "marker": {
          "color": "#FECB52",
          "pattern": {
           "shape": ""
          }
         },
         "name": "cine_photo",
         "offsetgroup": "cine_photo",
         "orientation": "v",
         "showlegend": true,
         "type": "histogram",
         "x": [
          "cine_foto"
         ],
         "xaxis": "x",
         "yaxis": "y"
        },
        {
         "alignmentgroup": "True",
         "bingroup": "x",
         "hovertemplate": "product_category_name_english=la_cuisine<br>product_category_name=%{x}<br>count=%{y}<extra></extra>",
         "legendgroup": "la_cuisine",
         "marker": {
          "color": "#636efa",
          "pattern": {
           "shape": ""
          }
         },
         "name": "la_cuisine",
         "offsetgroup": "la_cuisine",
         "orientation": "v",
         "showlegend": true,
         "type": "histogram",
         "x": [
          "la_cuisine"
         ],
         "xaxis": "x",
         "yaxis": "y"
        },
        {
         "alignmentgroup": "True",
         "bingroup": "x",
         "hovertemplate": "product_category_name_english=music<br>product_category_name=%{x}<br>count=%{y}<extra></extra>",
         "legendgroup": "music",
         "marker": {
          "color": "#EF553B",
          "pattern": {
           "shape": ""
          }
         },
         "name": "music",
         "offsetgroup": "music",
         "orientation": "v",
         "showlegend": true,
         "type": "histogram",
         "x": [
          "musica"
         ],
         "xaxis": "x",
         "yaxis": "y"
        },
        {
         "alignmentgroup": "True",
         "bingroup": "x",
         "hovertemplate": "product_category_name_english=home_comfort_2<br>product_category_name=%{x}<br>count=%{y}<extra></extra>",
         "legendgroup": "home_comfort_2",
         "marker": {
          "color": "#00cc96",
          "pattern": {
           "shape": ""
          }
         },
         "name": "home_comfort_2",
         "offsetgroup": "home_comfort_2",
         "orientation": "v",
         "showlegend": true,
         "type": "histogram",
         "x": [
          "casa_conforto_2"
         ],
         "xaxis": "x",
         "yaxis": "y"
        },
        {
         "alignmentgroup": "True",
         "bingroup": "x",
         "hovertemplate": "product_category_name_english=small_appliances_home_oven_and_coffee<br>product_category_name=%{x}<br>count=%{y}<extra></extra>",
         "legendgroup": "small_appliances_home_oven_and_coffee",
         "marker": {
          "color": "#ab63fa",
          "pattern": {
           "shape": ""
          }
         },
         "name": "small_appliances_home_oven_and_coffee",
         "offsetgroup": "small_appliances_home_oven_and_coffee",
         "orientation": "v",
         "showlegend": true,
         "type": "histogram",
         "x": [
          "portateis_casa_forno_e_cafe"
         ],
         "xaxis": "x",
         "yaxis": "y"
        },
        {
         "alignmentgroup": "True",
         "bingroup": "x",
         "hovertemplate": "product_category_name_english=cds_dvds_musicals<br>product_category_name=%{x}<br>count=%{y}<extra></extra>",
         "legendgroup": "cds_dvds_musicals",
         "marker": {
          "color": "#FFA15A",
          "pattern": {
           "shape": ""
          }
         },
         "name": "cds_dvds_musicals",
         "offsetgroup": "cds_dvds_musicals",
         "orientation": "v",
         "showlegend": true,
         "type": "histogram",
         "x": [
          "cds_dvds_musicais"
         ],
         "xaxis": "x",
         "yaxis": "y"
        },
        {
         "alignmentgroup": "True",
         "bingroup": "x",
         "hovertemplate": "product_category_name_english=dvds_blu_ray<br>product_category_name=%{x}<br>count=%{y}<extra></extra>",
         "legendgroup": "dvds_blu_ray",
         "marker": {
          "color": "#19d3f3",
          "pattern": {
           "shape": ""
          }
         },
         "name": "dvds_blu_ray",
         "offsetgroup": "dvds_blu_ray",
         "orientation": "v",
         "showlegend": true,
         "type": "histogram",
         "x": [
          "dvds_blu_ray"
         ],
         "xaxis": "x",
         "yaxis": "y"
        },
        {
         "alignmentgroup": "True",
         "bingroup": "x",
         "hovertemplate": "product_category_name_english=flowers<br>product_category_name=%{x}<br>count=%{y}<extra></extra>",
         "legendgroup": "flowers",
         "marker": {
          "color": "#FF6692",
          "pattern": {
           "shape": ""
          }
         },
         "name": "flowers",
         "offsetgroup": "flowers",
         "orientation": "v",
         "showlegend": true,
         "type": "histogram",
         "x": [
          "flores"
         ],
         "xaxis": "x",
         "yaxis": "y"
        },
        {
         "alignmentgroup": "True",
         "bingroup": "x",
         "hovertemplate": "product_category_name_english=arts_and_craftmanship<br>product_category_name=%{x}<br>count=%{y}<extra></extra>",
         "legendgroup": "arts_and_craftmanship",
         "marker": {
          "color": "#B6E880",
          "pattern": {
           "shape": ""
          }
         },
         "name": "arts_and_craftmanship",
         "offsetgroup": "arts_and_craftmanship",
         "orientation": "v",
         "showlegend": true,
         "type": "histogram",
         "x": [
          "artes_e_artesanato"
         ],
         "xaxis": "x",
         "yaxis": "y"
        },
        {
         "alignmentgroup": "True",
         "bingroup": "x",
         "hovertemplate": "product_category_name_english=diapers_and_hygiene<br>product_category_name=%{x}<br>count=%{y}<extra></extra>",
         "legendgroup": "diapers_and_hygiene",
         "marker": {
          "color": "#FF97FF",
          "pattern": {
           "shape": ""
          }
         },
         "name": "diapers_and_hygiene",
         "offsetgroup": "diapers_and_hygiene",
         "orientation": "v",
         "showlegend": true,
         "type": "histogram",
         "x": [
          "fraldas_higiene"
         ],
         "xaxis": "x",
         "yaxis": "y"
        },
        {
         "alignmentgroup": "True",
         "bingroup": "x",
         "hovertemplate": "product_category_name_english=fashion_childrens_clothes<br>product_category_name=%{x}<br>count=%{y}<extra></extra>",
         "legendgroup": "fashion_childrens_clothes",
         "marker": {
          "color": "#FECB52",
          "pattern": {
           "shape": ""
          }
         },
         "name": "fashion_childrens_clothes",
         "offsetgroup": "fashion_childrens_clothes",
         "orientation": "v",
         "showlegend": true,
         "type": "histogram",
         "x": [
          "fashion_roupa_infanto_juvenil"
         ],
         "xaxis": "x",
         "yaxis": "y"
        },
        {
         "alignmentgroup": "True",
         "bingroup": "x",
         "hovertemplate": "product_category_name_english=security_and_services<br>product_category_name=%{x}<br>count=%{y}<extra></extra>",
         "legendgroup": "security_and_services",
         "marker": {
          "color": "#636efa",
          "pattern": {
           "shape": ""
          }
         },
         "name": "security_and_services",
         "offsetgroup": "security_and_services",
         "orientation": "v",
         "showlegend": true,
         "type": "histogram",
         "x": [
          "seguros_e_servicos"
         ],
         "xaxis": "x",
         "yaxis": "y"
        }
       ],
       "layout": {
        "barmode": "relative",
        "legend": {
         "title": {
          "text": "product_category_name_english"
         },
         "tracegroupgap": 0
        },
        "margin": {
         "t": 60
        },
        "template": {
         "data": {
          "bar": [
           {
            "error_x": {
             "color": "#2a3f5f"
            },
            "error_y": {
             "color": "#2a3f5f"
            },
            "marker": {
             "line": {
              "color": "#E5ECF6",
              "width": 0.5
             },
             "pattern": {
              "fillmode": "overlay",
              "size": 10,
              "solidity": 0.2
             }
            },
            "type": "bar"
           }
          ],
          "barpolar": [
           {
            "marker": {
             "line": {
              "color": "#E5ECF6",
              "width": 0.5
             },
             "pattern": {
              "fillmode": "overlay",
              "size": 10,
              "solidity": 0.2
             }
            },
            "type": "barpolar"
           }
          ],
          "carpet": [
           {
            "aaxis": {
             "endlinecolor": "#2a3f5f",
             "gridcolor": "white",
             "linecolor": "white",
             "minorgridcolor": "white",
             "startlinecolor": "#2a3f5f"
            },
            "baxis": {
             "endlinecolor": "#2a3f5f",
             "gridcolor": "white",
             "linecolor": "white",
             "minorgridcolor": "white",
             "startlinecolor": "#2a3f5f"
            },
            "type": "carpet"
           }
          ],
          "choropleth": [
           {
            "colorbar": {
             "outlinewidth": 0,
             "ticks": ""
            },
            "type": "choropleth"
           }
          ],
          "contour": [
           {
            "colorbar": {
             "outlinewidth": 0,
             "ticks": ""
            },
            "colorscale": [
             [
              0,
              "#0d0887"
             ],
             [
              0.1111111111111111,
              "#46039f"
             ],
             [
              0.2222222222222222,
              "#7201a8"
             ],
             [
              0.3333333333333333,
              "#9c179e"
             ],
             [
              0.4444444444444444,
              "#bd3786"
             ],
             [
              0.5555555555555556,
              "#d8576b"
             ],
             [
              0.6666666666666666,
              "#ed7953"
             ],
             [
              0.7777777777777778,
              "#fb9f3a"
             ],
             [
              0.8888888888888888,
              "#fdca26"
             ],
             [
              1,
              "#f0f921"
             ]
            ],
            "type": "contour"
           }
          ],
          "contourcarpet": [
           {
            "colorbar": {
             "outlinewidth": 0,
             "ticks": ""
            },
            "type": "contourcarpet"
           }
          ],
          "heatmap": [
           {
            "colorbar": {
             "outlinewidth": 0,
             "ticks": ""
            },
            "colorscale": [
             [
              0,
              "#0d0887"
             ],
             [
              0.1111111111111111,
              "#46039f"
             ],
             [
              0.2222222222222222,
              "#7201a8"
             ],
             [
              0.3333333333333333,
              "#9c179e"
             ],
             [
              0.4444444444444444,
              "#bd3786"
             ],
             [
              0.5555555555555556,
              "#d8576b"
             ],
             [
              0.6666666666666666,
              "#ed7953"
             ],
             [
              0.7777777777777778,
              "#fb9f3a"
             ],
             [
              0.8888888888888888,
              "#fdca26"
             ],
             [
              1,
              "#f0f921"
             ]
            ],
            "type": "heatmap"
           }
          ],
          "heatmapgl": [
           {
            "colorbar": {
             "outlinewidth": 0,
             "ticks": ""
            },
            "colorscale": [
             [
              0,
              "#0d0887"
             ],
             [
              0.1111111111111111,
              "#46039f"
             ],
             [
              0.2222222222222222,
              "#7201a8"
             ],
             [
              0.3333333333333333,
              "#9c179e"
             ],
             [
              0.4444444444444444,
              "#bd3786"
             ],
             [
              0.5555555555555556,
              "#d8576b"
             ],
             [
              0.6666666666666666,
              "#ed7953"
             ],
             [
              0.7777777777777778,
              "#fb9f3a"
             ],
             [
              0.8888888888888888,
              "#fdca26"
             ],
             [
              1,
              "#f0f921"
             ]
            ],
            "type": "heatmapgl"
           }
          ],
          "histogram": [
           {
            "marker": {
             "pattern": {
              "fillmode": "overlay",
              "size": 10,
              "solidity": 0.2
             }
            },
            "type": "histogram"
           }
          ],
          "histogram2d": [
           {
            "colorbar": {
             "outlinewidth": 0,
             "ticks": ""
            },
            "colorscale": [
             [
              0,
              "#0d0887"
             ],
             [
              0.1111111111111111,
              "#46039f"
             ],
             [
              0.2222222222222222,
              "#7201a8"
             ],
             [
              0.3333333333333333,
              "#9c179e"
             ],
             [
              0.4444444444444444,
              "#bd3786"
             ],
             [
              0.5555555555555556,
              "#d8576b"
             ],
             [
              0.6666666666666666,
              "#ed7953"
             ],
             [
              0.7777777777777778,
              "#fb9f3a"
             ],
             [
              0.8888888888888888,
              "#fdca26"
             ],
             [
              1,
              "#f0f921"
             ]
            ],
            "type": "histogram2d"
           }
          ],
          "histogram2dcontour": [
           {
            "colorbar": {
             "outlinewidth": 0,
             "ticks": ""
            },
            "colorscale": [
             [
              0,
              "#0d0887"
             ],
             [
              0.1111111111111111,
              "#46039f"
             ],
             [
              0.2222222222222222,
              "#7201a8"
             ],
             [
              0.3333333333333333,
              "#9c179e"
             ],
             [
              0.4444444444444444,
              "#bd3786"
             ],
             [
              0.5555555555555556,
              "#d8576b"
             ],
             [
              0.6666666666666666,
              "#ed7953"
             ],
             [
              0.7777777777777778,
              "#fb9f3a"
             ],
             [
              0.8888888888888888,
              "#fdca26"
             ],
             [
              1,
              "#f0f921"
             ]
            ],
            "type": "histogram2dcontour"
           }
          ],
          "mesh3d": [
           {
            "colorbar": {
             "outlinewidth": 0,
             "ticks": ""
            },
            "type": "mesh3d"
           }
          ],
          "parcoords": [
           {
            "line": {
             "colorbar": {
              "outlinewidth": 0,
              "ticks": ""
             }
            },
            "type": "parcoords"
           }
          ],
          "pie": [
           {
            "automargin": true,
            "type": "pie"
           }
          ],
          "scatter": [
           {
            "fillpattern": {
             "fillmode": "overlay",
             "size": 10,
             "solidity": 0.2
            },
            "type": "scatter"
           }
          ],
          "scatter3d": [
           {
            "line": {
             "colorbar": {
              "outlinewidth": 0,
              "ticks": ""
             }
            },
            "marker": {
             "colorbar": {
              "outlinewidth": 0,
              "ticks": ""
             }
            },
            "type": "scatter3d"
           }
          ],
          "scattercarpet": [
           {
            "marker": {
             "colorbar": {
              "outlinewidth": 0,
              "ticks": ""
             }
            },
            "type": "scattercarpet"
           }
          ],
          "scattergeo": [
           {
            "marker": {
             "colorbar": {
              "outlinewidth": 0,
              "ticks": ""
             }
            },
            "type": "scattergeo"
           }
          ],
          "scattergl": [
           {
            "marker": {
             "colorbar": {
              "outlinewidth": 0,
              "ticks": ""
             }
            },
            "type": "scattergl"
           }
          ],
          "scattermapbox": [
           {
            "marker": {
             "colorbar": {
              "outlinewidth": 0,
              "ticks": ""
             }
            },
            "type": "scattermapbox"
           }
          ],
          "scatterpolar": [
           {
            "marker": {
             "colorbar": {
              "outlinewidth": 0,
              "ticks": ""
             }
            },
            "type": "scatterpolar"
           }
          ],
          "scatterpolargl": [
           {
            "marker": {
             "colorbar": {
              "outlinewidth": 0,
              "ticks": ""
             }
            },
            "type": "scatterpolargl"
           }
          ],
          "scatterternary": [
           {
            "marker": {
             "colorbar": {
              "outlinewidth": 0,
              "ticks": ""
             }
            },
            "type": "scatterternary"
           }
          ],
          "surface": [
           {
            "colorbar": {
             "outlinewidth": 0,
             "ticks": ""
            },
            "colorscale": [
             [
              0,
              "#0d0887"
             ],
             [
              0.1111111111111111,
              "#46039f"
             ],
             [
              0.2222222222222222,
              "#7201a8"
             ],
             [
              0.3333333333333333,
              "#9c179e"
             ],
             [
              0.4444444444444444,
              "#bd3786"
             ],
             [
              0.5555555555555556,
              "#d8576b"
             ],
             [
              0.6666666666666666,
              "#ed7953"
             ],
             [
              0.7777777777777778,
              "#fb9f3a"
             ],
             [
              0.8888888888888888,
              "#fdca26"
             ],
             [
              1,
              "#f0f921"
             ]
            ],
            "type": "surface"
           }
          ],
          "table": [
           {
            "cells": {
             "fill": {
              "color": "#EBF0F8"
             },
             "line": {
              "color": "white"
             }
            },
            "header": {
             "fill": {
              "color": "#C8D4E3"
             },
             "line": {
              "color": "white"
             }
            },
            "type": "table"
           }
          ]
         },
         "layout": {
          "annotationdefaults": {
           "arrowcolor": "#2a3f5f",
           "arrowhead": 0,
           "arrowwidth": 1
          },
          "autotypenumbers": "strict",
          "coloraxis": {
           "colorbar": {
            "outlinewidth": 0,
            "ticks": ""
           }
          },
          "colorscale": {
           "diverging": [
            [
             0,
             "#8e0152"
            ],
            [
             0.1,
             "#c51b7d"
            ],
            [
             0.2,
             "#de77ae"
            ],
            [
             0.3,
             "#f1b6da"
            ],
            [
             0.4,
             "#fde0ef"
            ],
            [
             0.5,
             "#f7f7f7"
            ],
            [
             0.6,
             "#e6f5d0"
            ],
            [
             0.7,
             "#b8e186"
            ],
            [
             0.8,
             "#7fbc41"
            ],
            [
             0.9,
             "#4d9221"
            ],
            [
             1,
             "#276419"
            ]
           ],
           "sequential": [
            [
             0,
             "#0d0887"
            ],
            [
             0.1111111111111111,
             "#46039f"
            ],
            [
             0.2222222222222222,
             "#7201a8"
            ],
            [
             0.3333333333333333,
             "#9c179e"
            ],
            [
             0.4444444444444444,
             "#bd3786"
            ],
            [
             0.5555555555555556,
             "#d8576b"
            ],
            [
             0.6666666666666666,
             "#ed7953"
            ],
            [
             0.7777777777777778,
             "#fb9f3a"
            ],
            [
             0.8888888888888888,
             "#fdca26"
            ],
            [
             1,
             "#f0f921"
            ]
           ],
           "sequentialminus": [
            [
             0,
             "#0d0887"
            ],
            [
             0.1111111111111111,
             "#46039f"
            ],
            [
             0.2222222222222222,
             "#7201a8"
            ],
            [
             0.3333333333333333,
             "#9c179e"
            ],
            [
             0.4444444444444444,
             "#bd3786"
            ],
            [
             0.5555555555555556,
             "#d8576b"
            ],
            [
             0.6666666666666666,
             "#ed7953"
            ],
            [
             0.7777777777777778,
             "#fb9f3a"
            ],
            [
             0.8888888888888888,
             "#fdca26"
            ],
            [
             1,
             "#f0f921"
            ]
           ]
          },
          "colorway": [
           "#636efa",
           "#EF553B",
           "#00cc96",
           "#ab63fa",
           "#FFA15A",
           "#19d3f3",
           "#FF6692",
           "#B6E880",
           "#FF97FF",
           "#FECB52"
          ],
          "font": {
           "color": "#2a3f5f"
          },
          "geo": {
           "bgcolor": "white",
           "lakecolor": "white",
           "landcolor": "#E5ECF6",
           "showlakes": true,
           "showland": true,
           "subunitcolor": "white"
          },
          "hoverlabel": {
           "align": "left"
          },
          "hovermode": "closest",
          "mapbox": {
           "style": "light"
          },
          "paper_bgcolor": "white",
          "plot_bgcolor": "#E5ECF6",
          "polar": {
           "angularaxis": {
            "gridcolor": "white",
            "linecolor": "white",
            "ticks": ""
           },
           "bgcolor": "#E5ECF6",
           "radialaxis": {
            "gridcolor": "white",
            "linecolor": "white",
            "ticks": ""
           }
          },
          "scene": {
           "xaxis": {
            "backgroundcolor": "#E5ECF6",
            "gridcolor": "white",
            "gridwidth": 2,
            "linecolor": "white",
            "showbackground": true,
            "ticks": "",
            "zerolinecolor": "white"
           },
           "yaxis": {
            "backgroundcolor": "#E5ECF6",
            "gridcolor": "white",
            "gridwidth": 2,
            "linecolor": "white",
            "showbackground": true,
            "ticks": "",
            "zerolinecolor": "white"
           },
           "zaxis": {
            "backgroundcolor": "#E5ECF6",
            "gridcolor": "white",
            "gridwidth": 2,
            "linecolor": "white",
            "showbackground": true,
            "ticks": "",
            "zerolinecolor": "white"
           }
          },
          "shapedefaults": {
           "line": {
            "color": "#2a3f5f"
           }
          },
          "ternary": {
           "aaxis": {
            "gridcolor": "white",
            "linecolor": "white",
            "ticks": ""
           },
           "baxis": {
            "gridcolor": "white",
            "linecolor": "white",
            "ticks": ""
           },
           "bgcolor": "#E5ECF6",
           "caxis": {
            "gridcolor": "white",
            "linecolor": "white",
            "ticks": ""
           }
          },
          "title": {
           "x": 0.05
          },
          "xaxis": {
           "automargin": true,
           "gridcolor": "white",
           "linecolor": "white",
           "ticks": "",
           "title": {
            "standoff": 15
           },
           "zerolinecolor": "white",
           "zerolinewidth": 2
          },
          "yaxis": {
           "automargin": true,
           "gridcolor": "white",
           "linecolor": "white",
           "ticks": "",
           "title": {
            "standoff": 15
           },
           "zerolinecolor": "white",
           "zerolinewidth": 2
          }
         }
        },
        "xaxis": {
         "anchor": "y",
         "domain": [
          0,
          1
         ],
         "title": {
          "text": "product_category_name"
         }
        },
        "yaxis": {
         "anchor": "x",
         "domain": [
          0,
          1
         ],
         "title": {
          "text": "count"
         }
        }
       }
      }
     },
     "metadata": {},
     "output_type": "display_data"
    },
    {
     "data": {
      "application/vnd.plotly.v1+json": {
       "config": {
        "plotlyServerURL": "https://plot.ly"
       },
       "data": [
        {
         "alignmentgroup": "True",
         "bingroup": "x",
         "hovertemplate": "product_category_name_english=health_beauty<br>product_category_name=%{x}<br>count=%{y}<extra></extra>",
         "legendgroup": "health_beauty",
         "marker": {
          "color": "#636efa",
          "pattern": {
           "shape": ""
          }
         },
         "name": "health_beauty",
         "offsetgroup": "health_beauty",
         "orientation": "v",
         "showlegend": true,
         "type": "histogram",
         "x": [
          "beleza_saude"
         ],
         "xaxis": "x",
         "yaxis": "y"
        },
        {
         "alignmentgroup": "True",
         "bingroup": "x",
         "hovertemplate": "product_category_name_english=computers_accessories<br>product_category_name=%{x}<br>count=%{y}<extra></extra>",
         "legendgroup": "computers_accessories",
         "marker": {
          "color": "#EF553B",
          "pattern": {
           "shape": ""
          }
         },
         "name": "computers_accessories",
         "offsetgroup": "computers_accessories",
         "orientation": "v",
         "showlegend": true,
         "type": "histogram",
         "x": [
          "informatica_acessorios"
         ],
         "xaxis": "x",
         "yaxis": "y"
        },
        {
         "alignmentgroup": "True",
         "bingroup": "x",
         "hovertemplate": "product_category_name_english=auto<br>product_category_name=%{x}<br>count=%{y}<extra></extra>",
         "legendgroup": "auto",
         "marker": {
          "color": "#00cc96",
          "pattern": {
           "shape": ""
          }
         },
         "name": "auto",
         "offsetgroup": "auto",
         "orientation": "v",
         "showlegend": true,
         "type": "histogram",
         "x": [
          "automotivo"
         ],
         "xaxis": "x",
         "yaxis": "y"
        },
        {
         "alignmentgroup": "True",
         "bingroup": "x",
         "hovertemplate": "product_category_name_english=bed_bath_table<br>product_category_name=%{x}<br>count=%{y}<extra></extra>",
         "legendgroup": "bed_bath_table",
         "marker": {
          "color": "#ab63fa",
          "pattern": {
           "shape": ""
          }
         },
         "name": "bed_bath_table",
         "offsetgroup": "bed_bath_table",
         "orientation": "v",
         "showlegend": true,
         "type": "histogram",
         "x": [
          "cama_mesa_banho"
         ],
         "xaxis": "x",
         "yaxis": "y"
        },
        {
         "alignmentgroup": "True",
         "bingroup": "x",
         "hovertemplate": "product_category_name_english=furniture_decor<br>product_category_name=%{x}<br>count=%{y}<extra></extra>",
         "legendgroup": "furniture_decor",
         "marker": {
          "color": "#FFA15A",
          "pattern": {
           "shape": ""
          }
         },
         "name": "furniture_decor",
         "offsetgroup": "furniture_decor",
         "orientation": "v",
         "showlegend": true,
         "type": "histogram",
         "x": [
          "moveis_decoracao"
         ],
         "xaxis": "x",
         "yaxis": "y"
        },
        {
         "alignmentgroup": "True",
         "bingroup": "x",
         "hovertemplate": "product_category_name_english=sports_leisure<br>product_category_name=%{x}<br>count=%{y}<extra></extra>",
         "legendgroup": "sports_leisure",
         "marker": {
          "color": "#19d3f3",
          "pattern": {
           "shape": ""
          }
         },
         "name": "sports_leisure",
         "offsetgroup": "sports_leisure",
         "orientation": "v",
         "showlegend": true,
         "type": "histogram",
         "x": [
          "esporte_lazer"
         ],
         "xaxis": "x",
         "yaxis": "y"
        },
        {
         "alignmentgroup": "True",
         "bingroup": "x",
         "hovertemplate": "product_category_name_english=perfumery<br>product_category_name=%{x}<br>count=%{y}<extra></extra>",
         "legendgroup": "perfumery",
         "marker": {
          "color": "#FF6692",
          "pattern": {
           "shape": ""
          }
         },
         "name": "perfumery",
         "offsetgroup": "perfumery",
         "orientation": "v",
         "showlegend": true,
         "type": "histogram",
         "x": [
          "perfumaria"
         ],
         "xaxis": "x",
         "yaxis": "y"
        },
        {
         "alignmentgroup": "True",
         "bingroup": "x",
         "hovertemplate": "product_category_name_english=housewares<br>product_category_name=%{x}<br>count=%{y}<extra></extra>",
         "legendgroup": "housewares",
         "marker": {
          "color": "#B6E880",
          "pattern": {
           "shape": ""
          }
         },
         "name": "housewares",
         "offsetgroup": "housewares",
         "orientation": "v",
         "showlegend": true,
         "type": "histogram",
         "x": [
          "utilidades_domesticas"
         ],
         "xaxis": "x",
         "yaxis": "y"
        },
        {
         "alignmentgroup": "True",
         "bingroup": "x",
         "hovertemplate": "product_category_name_english=telephony<br>product_category_name=%{x}<br>count=%{y}<extra></extra>",
         "legendgroup": "telephony",
         "marker": {
          "color": "#FF97FF",
          "pattern": {
           "shape": ""
          }
         },
         "name": "telephony",
         "offsetgroup": "telephony",
         "orientation": "v",
         "showlegend": true,
         "type": "histogram",
         "x": [
          "telefonia"
         ],
         "xaxis": "x",
         "yaxis": "y"
        },
        {
         "alignmentgroup": "True",
         "bingroup": "x",
         "hovertemplate": "product_category_name_english=watches_gifts<br>product_category_name=%{x}<br>count=%{y}<extra></extra>",
         "legendgroup": "watches_gifts",
         "marker": {
          "color": "#FECB52",
          "pattern": {
           "shape": ""
          }
         },
         "name": "watches_gifts",
         "offsetgroup": "watches_gifts",
         "orientation": "v",
         "showlegend": true,
         "type": "histogram",
         "x": [
          "relogios_presentes"
         ],
         "xaxis": "x",
         "yaxis": "y"
        },
        {
         "alignmentgroup": "True",
         "bingroup": "x",
         "hovertemplate": "product_category_name_english=food_drink<br>product_category_name=%{x}<br>count=%{y}<extra></extra>",
         "legendgroup": "food_drink",
         "marker": {
          "color": "#636efa",
          "pattern": {
           "shape": ""
          }
         },
         "name": "food_drink",
         "offsetgroup": "food_drink",
         "orientation": "v",
         "showlegend": true,
         "type": "histogram",
         "x": [
          "alimentos_bebidas"
         ],
         "xaxis": "x",
         "yaxis": "y"
        },
        {
         "alignmentgroup": "True",
         "bingroup": "x",
         "hovertemplate": "product_category_name_english=baby<br>product_category_name=%{x}<br>count=%{y}<extra></extra>",
         "legendgroup": "baby",
         "marker": {
          "color": "#EF553B",
          "pattern": {
           "shape": ""
          }
         },
         "name": "baby",
         "offsetgroup": "baby",
         "orientation": "v",
         "showlegend": true,
         "type": "histogram",
         "x": [
          "bebes"
         ],
         "xaxis": "x",
         "yaxis": "y"
        },
        {
         "alignmentgroup": "True",
         "bingroup": "x",
         "hovertemplate": "product_category_name_english=stationery<br>product_category_name=%{x}<br>count=%{y}<extra></extra>",
         "legendgroup": "stationery",
         "marker": {
          "color": "#00cc96",
          "pattern": {
           "shape": ""
          }
         },
         "name": "stationery",
         "offsetgroup": "stationery",
         "orientation": "v",
         "showlegend": true,
         "type": "histogram",
         "x": [
          "papelaria"
         ],
         "xaxis": "x",
         "yaxis": "y"
        },
        {
         "alignmentgroup": "True",
         "bingroup": "x",
         "hovertemplate": "product_category_name_english=tablets_printing_image<br>product_category_name=%{x}<br>count=%{y}<extra></extra>",
         "legendgroup": "tablets_printing_image",
         "marker": {
          "color": "#ab63fa",
          "pattern": {
           "shape": ""
          }
         },
         "name": "tablets_printing_image",
         "offsetgroup": "tablets_printing_image",
         "orientation": "v",
         "showlegend": true,
         "type": "histogram",
         "x": [
          "tablets_impressao_imagem"
         ],
         "xaxis": "x",
         "yaxis": "y"
        },
        {
         "alignmentgroup": "True",
         "bingroup": "x",
         "hovertemplate": "product_category_name_english=toys<br>product_category_name=%{x}<br>count=%{y}<extra></extra>",
         "legendgroup": "toys",
         "marker": {
          "color": "#FFA15A",
          "pattern": {
           "shape": ""
          }
         },
         "name": "toys",
         "offsetgroup": "toys",
         "orientation": "v",
         "showlegend": true,
         "type": "histogram",
         "x": [
          "brinquedos"
         ],
         "xaxis": "x",
         "yaxis": "y"
        },
        {
         "alignmentgroup": "True",
         "bingroup": "x",
         "hovertemplate": "product_category_name_english=fixed_telephony<br>product_category_name=%{x}<br>count=%{y}<extra></extra>",
         "legendgroup": "fixed_telephony",
         "marker": {
          "color": "#19d3f3",
          "pattern": {
           "shape": ""
          }
         },
         "name": "fixed_telephony",
         "offsetgroup": "fixed_telephony",
         "orientation": "v",
         "showlegend": true,
         "type": "histogram",
         "x": [
          "telefonia_fixa"
         ],
         "xaxis": "x",
         "yaxis": "y"
        },
        {
         "alignmentgroup": "True",
         "bingroup": "x",
         "hovertemplate": "product_category_name_english=garden_tools<br>product_category_name=%{x}<br>count=%{y}<extra></extra>",
         "legendgroup": "garden_tools",
         "marker": {
          "color": "#FF6692",
          "pattern": {
           "shape": ""
          }
         },
         "name": "garden_tools",
         "offsetgroup": "garden_tools",
         "orientation": "v",
         "showlegend": true,
         "type": "histogram",
         "x": [
          "ferramentas_jardim"
         ],
         "xaxis": "x",
         "yaxis": "y"
        },
        {
         "alignmentgroup": "True",
         "bingroup": "x",
         "hovertemplate": "product_category_name_english=fashion_bags_accessories<br>product_category_name=%{x}<br>count=%{y}<extra></extra>",
         "legendgroup": "fashion_bags_accessories",
         "marker": {
          "color": "#B6E880",
          "pattern": {
           "shape": ""
          }
         },
         "name": "fashion_bags_accessories",
         "offsetgroup": "fashion_bags_accessories",
         "orientation": "v",
         "showlegend": true,
         "type": "histogram",
         "x": [
          "fashion_bolsas_e_acessorios"
         ],
         "xaxis": "x",
         "yaxis": "y"
        },
        {
         "alignmentgroup": "True",
         "bingroup": "x",
         "hovertemplate": "product_category_name_english=small_appliances<br>product_category_name=%{x}<br>count=%{y}<extra></extra>",
         "legendgroup": "small_appliances",
         "marker": {
          "color": "#FF97FF",
          "pattern": {
           "shape": ""
          }
         },
         "name": "small_appliances",
         "offsetgroup": "small_appliances",
         "orientation": "v",
         "showlegend": true,
         "type": "histogram",
         "x": [
          "eletroportateis"
         ],
         "xaxis": "x",
         "yaxis": "y"
        },
        {
         "alignmentgroup": "True",
         "bingroup": "x",
         "hovertemplate": "product_category_name_english=consoles_games<br>product_category_name=%{x}<br>count=%{y}<extra></extra>",
         "legendgroup": "consoles_games",
         "marker": {
          "color": "#FECB52",
          "pattern": {
           "shape": ""
          }
         },
         "name": "consoles_games",
         "offsetgroup": "consoles_games",
         "orientation": "v",
         "showlegend": true,
         "type": "histogram",
         "x": [
          "consoles_games"
         ],
         "xaxis": "x",
         "yaxis": "y"
        },
        {
         "alignmentgroup": "True",
         "bingroup": "x",
         "hovertemplate": "product_category_name_english=audio<br>product_category_name=%{x}<br>count=%{y}<extra></extra>",
         "legendgroup": "audio",
         "marker": {
          "color": "#636efa",
          "pattern": {
           "shape": ""
          }
         },
         "name": "audio",
         "offsetgroup": "audio",
         "orientation": "v",
         "showlegend": true,
         "type": "histogram",
         "x": [
          "audio"
         ],
         "xaxis": "x",
         "yaxis": "y"
        },
        {
         "alignmentgroup": "True",
         "bingroup": "x",
         "hovertemplate": "product_category_name_english=fashion_shoes<br>product_category_name=%{x}<br>count=%{y}<extra></extra>",
         "legendgroup": "fashion_shoes",
         "marker": {
          "color": "#EF553B",
          "pattern": {
           "shape": ""
          }
         },
         "name": "fashion_shoes",
         "offsetgroup": "fashion_shoes",
         "orientation": "v",
         "showlegend": true,
         "type": "histogram",
         "x": [
          "fashion_calcados"
         ],
         "xaxis": "x",
         "yaxis": "y"
        },
        {
         "alignmentgroup": "True",
         "bingroup": "x",
         "hovertemplate": "product_category_name_english=cool_stuff<br>product_category_name=%{x}<br>count=%{y}<extra></extra>",
         "legendgroup": "cool_stuff",
         "marker": {
          "color": "#00cc96",
          "pattern": {
           "shape": ""
          }
         },
         "name": "cool_stuff",
         "offsetgroup": "cool_stuff",
         "orientation": "v",
         "showlegend": true,
         "type": "histogram",
         "x": [
          "cool_stuff"
         ],
         "xaxis": "x",
         "yaxis": "y"
        },
        {
         "alignmentgroup": "True",
         "bingroup": "x",
         "hovertemplate": "product_category_name_english=luggage_accessories<br>product_category_name=%{x}<br>count=%{y}<extra></extra>",
         "legendgroup": "luggage_accessories",
         "marker": {
          "color": "#ab63fa",
          "pattern": {
           "shape": ""
          }
         },
         "name": "luggage_accessories",
         "offsetgroup": "luggage_accessories",
         "orientation": "v",
         "showlegend": true,
         "type": "histogram",
         "x": [
          "malas_acessorios"
         ],
         "xaxis": "x",
         "yaxis": "y"
        },
        {
         "alignmentgroup": "True",
         "bingroup": "x",
         "hovertemplate": "product_category_name_english=air_conditioning<br>product_category_name=%{x}<br>count=%{y}<extra></extra>",
         "legendgroup": "air_conditioning",
         "marker": {
          "color": "#FFA15A",
          "pattern": {
           "shape": ""
          }
         },
         "name": "air_conditioning",
         "offsetgroup": "air_conditioning",
         "orientation": "v",
         "showlegend": true,
         "type": "histogram",
         "x": [
          "climatizacao"
         ],
         "xaxis": "x",
         "yaxis": "y"
        },
        {
         "alignmentgroup": "True",
         "bingroup": "x",
         "hovertemplate": "product_category_name_english=construction_tools_construction<br>product_category_name=%{x}<br>count=%{y}<extra></extra>",
         "legendgroup": "construction_tools_construction",
         "marker": {
          "color": "#19d3f3",
          "pattern": {
           "shape": ""
          }
         },
         "name": "construction_tools_construction",
         "offsetgroup": "construction_tools_construction",
         "orientation": "v",
         "showlegend": true,
         "type": "histogram",
         "x": [
          "construcao_ferramentas_construcao"
         ],
         "xaxis": "x",
         "yaxis": "y"
        },
        {
         "alignmentgroup": "True",
         "bingroup": "x",
         "hovertemplate": "product_category_name_english=kitchen_dining_laundry_garden_furniture<br>product_category_name=%{x}<br>count=%{y}<extra></extra>",
         "legendgroup": "kitchen_dining_laundry_garden_furniture",
         "marker": {
          "color": "#FF6692",
          "pattern": {
           "shape": ""
          }
         },
         "name": "kitchen_dining_laundry_garden_furniture",
         "offsetgroup": "kitchen_dining_laundry_garden_furniture",
         "orientation": "v",
         "showlegend": true,
         "type": "histogram",
         "x": [
          "moveis_cozinha_area_de_servico_jantar_e_jardim"
         ],
         "xaxis": "x",
         "yaxis": "y"
        },
        {
         "alignmentgroup": "True",
         "bingroup": "x",
         "hovertemplate": "product_category_name_english=costruction_tools_garden<br>product_category_name=%{x}<br>count=%{y}<extra></extra>",
         "legendgroup": "costruction_tools_garden",
         "marker": {
          "color": "#B6E880",
          "pattern": {
           "shape": ""
          }
         },
         "name": "costruction_tools_garden",
         "offsetgroup": "costruction_tools_garden",
         "orientation": "v",
         "showlegend": true,
         "type": "histogram",
         "x": [
          "construcao_ferramentas_jardim"
         ],
         "xaxis": "x",
         "yaxis": "y"
        },
        {
         "alignmentgroup": "True",
         "bingroup": "x",
         "hovertemplate": "product_category_name_english=fashion_male_clothing<br>product_category_name=%{x}<br>count=%{y}<extra></extra>",
         "legendgroup": "fashion_male_clothing",
         "marker": {
          "color": "#FF97FF",
          "pattern": {
           "shape": ""
          }
         },
         "name": "fashion_male_clothing",
         "offsetgroup": "fashion_male_clothing",
         "orientation": "v",
         "showlegend": true,
         "type": "histogram",
         "x": [
          "fashion_roupa_masculina"
         ],
         "xaxis": "x",
         "yaxis": "y"
        },
        {
         "alignmentgroup": "True",
         "bingroup": "x",
         "hovertemplate": "product_category_name_english=pet_shop<br>product_category_name=%{x}<br>count=%{y}<extra></extra>",
         "legendgroup": "pet_shop",
         "marker": {
          "color": "#FECB52",
          "pattern": {
           "shape": ""
          }
         },
         "name": "pet_shop",
         "offsetgroup": "pet_shop",
         "orientation": "v",
         "showlegend": true,
         "type": "histogram",
         "x": [
          "pet_shop"
         ],
         "xaxis": "x",
         "yaxis": "y"
        },
        {
         "alignmentgroup": "True",
         "bingroup": "x",
         "hovertemplate": "product_category_name_english=office_furniture<br>product_category_name=%{x}<br>count=%{y}<extra></extra>",
         "legendgroup": "office_furniture",
         "marker": {
          "color": "#636efa",
          "pattern": {
           "shape": ""
          }
         },
         "name": "office_furniture",
         "offsetgroup": "office_furniture",
         "orientation": "v",
         "showlegend": true,
         "type": "histogram",
         "x": [
          "moveis_escritorio"
         ],
         "xaxis": "x",
         "yaxis": "y"
        },
        {
         "alignmentgroup": "True",
         "bingroup": "x",
         "hovertemplate": "product_category_name_english=market_place<br>product_category_name=%{x}<br>count=%{y}<extra></extra>",
         "legendgroup": "market_place",
         "marker": {
          "color": "#EF553B",
          "pattern": {
           "shape": ""
          }
         },
         "name": "market_place",
         "offsetgroup": "market_place",
         "orientation": "v",
         "showlegend": true,
         "type": "histogram",
         "x": [
          "market_place"
         ],
         "xaxis": "x",
         "yaxis": "y"
        },
        {
         "alignmentgroup": "True",
         "bingroup": "x",
         "hovertemplate": "product_category_name_english=electronics<br>product_category_name=%{x}<br>count=%{y}<extra></extra>",
         "legendgroup": "electronics",
         "marker": {
          "color": "#00cc96",
          "pattern": {
           "shape": ""
          }
         },
         "name": "electronics",
         "offsetgroup": "electronics",
         "orientation": "v",
         "showlegend": true,
         "type": "histogram",
         "x": [
          "eletronicos"
         ],
         "xaxis": "x",
         "yaxis": "y"
        },
        {
         "alignmentgroup": "True",
         "bingroup": "x",
         "hovertemplate": "product_category_name_english=home_appliances<br>product_category_name=%{x}<br>count=%{y}<extra></extra>",
         "legendgroup": "home_appliances",
         "marker": {
          "color": "#ab63fa",
          "pattern": {
           "shape": ""
          }
         },
         "name": "home_appliances",
         "offsetgroup": "home_appliances",
         "orientation": "v",
         "showlegend": true,
         "type": "histogram",
         "x": [
          "eletrodomesticos"
         ],
         "xaxis": "x",
         "yaxis": "y"
        },
        {
         "alignmentgroup": "True",
         "bingroup": "x",
         "hovertemplate": "product_category_name_english=party_supplies<br>product_category_name=%{x}<br>count=%{y}<extra></extra>",
         "legendgroup": "party_supplies",
         "marker": {
          "color": "#FFA15A",
          "pattern": {
           "shape": ""
          }
         },
         "name": "party_supplies",
         "offsetgroup": "party_supplies",
         "orientation": "v",
         "showlegend": true,
         "type": "histogram",
         "x": [
          "artigos_de_festas"
         ],
         "xaxis": "x",
         "yaxis": "y"
        },
        {
         "alignmentgroup": "True",
         "bingroup": "x",
         "hovertemplate": "product_category_name_english=home_confort<br>product_category_name=%{x}<br>count=%{y}<extra></extra>",
         "legendgroup": "home_confort",
         "marker": {
          "color": "#19d3f3",
          "pattern": {
           "shape": ""
          }
         },
         "name": "home_confort",
         "offsetgroup": "home_confort",
         "orientation": "v",
         "showlegend": true,
         "type": "histogram",
         "x": [
          "casa_conforto"
         ],
         "xaxis": "x",
         "yaxis": "y"
        },
        {
         "alignmentgroup": "True",
         "bingroup": "x",
         "hovertemplate": "product_category_name_english=costruction_tools_tools<br>product_category_name=%{x}<br>count=%{y}<extra></extra>",
         "legendgroup": "costruction_tools_tools",
         "marker": {
          "color": "#FF6692",
          "pattern": {
           "shape": ""
          }
         },
         "name": "costruction_tools_tools",
         "offsetgroup": "costruction_tools_tools",
         "orientation": "v",
         "showlegend": true,
         "type": "histogram",
         "x": [
          "construcao_ferramentas_ferramentas"
         ],
         "xaxis": "x",
         "yaxis": "y"
        },
        {
         "alignmentgroup": "True",
         "bingroup": "x",
         "hovertemplate": "product_category_name_english=agro_industry_and_commerce<br>product_category_name=%{x}<br>count=%{y}<extra></extra>",
         "legendgroup": "agro_industry_and_commerce",
         "marker": {
          "color": "#B6E880",
          "pattern": {
           "shape": ""
          }
         },
         "name": "agro_industry_and_commerce",
         "offsetgroup": "agro_industry_and_commerce",
         "orientation": "v",
         "showlegend": true,
         "type": "histogram",
         "x": [
          "agro_industria_e_comercio"
         ],
         "xaxis": "x",
         "yaxis": "y"
        },
        {
         "alignmentgroup": "True",
         "bingroup": "x",
         "hovertemplate": "product_category_name_english=furniture_mattress_and_upholstery<br>product_category_name=%{x}<br>count=%{y}<extra></extra>",
         "legendgroup": "furniture_mattress_and_upholstery",
         "marker": {
          "color": "#FF97FF",
          "pattern": {
           "shape": ""
          }
         },
         "name": "furniture_mattress_and_upholstery",
         "offsetgroup": "furniture_mattress_and_upholstery",
         "orientation": "v",
         "showlegend": true,
         "type": "histogram",
         "x": [
          "moveis_colchao_e_estofado"
         ],
         "xaxis": "x",
         "yaxis": "y"
        },
        {
         "alignmentgroup": "True",
         "bingroup": "x",
         "hovertemplate": "product_category_name_english=books_technical<br>product_category_name=%{x}<br>count=%{y}<extra></extra>",
         "legendgroup": "books_technical",
         "marker": {
          "color": "#FECB52",
          "pattern": {
           "shape": ""
          }
         },
         "name": "books_technical",
         "offsetgroup": "books_technical",
         "orientation": "v",
         "showlegend": true,
         "type": "histogram",
         "x": [
          "livros_tecnicos"
         ],
         "xaxis": "x",
         "yaxis": "y"
        },
        {
         "alignmentgroup": "True",
         "bingroup": "x",
         "hovertemplate": "product_category_name_english=home_construction<br>product_category_name=%{x}<br>count=%{y}<extra></extra>",
         "legendgroup": "home_construction",
         "marker": {
          "color": "#636efa",
          "pattern": {
           "shape": ""
          }
         },
         "name": "home_construction",
         "offsetgroup": "home_construction",
         "orientation": "v",
         "showlegend": true,
         "type": "histogram",
         "x": [
          "casa_construcao"
         ],
         "xaxis": "x",
         "yaxis": "y"
        },
        {
         "alignmentgroup": "True",
         "bingroup": "x",
         "hovertemplate": "product_category_name_english=musical_instruments<br>product_category_name=%{x}<br>count=%{y}<extra></extra>",
         "legendgroup": "musical_instruments",
         "marker": {
          "color": "#EF553B",
          "pattern": {
           "shape": ""
          }
         },
         "name": "musical_instruments",
         "offsetgroup": "musical_instruments",
         "orientation": "v",
         "showlegend": true,
         "type": "histogram",
         "x": [
          "instrumentos_musicais"
         ],
         "xaxis": "x",
         "yaxis": "y"
        },
        {
         "alignmentgroup": "True",
         "bingroup": "x",
         "hovertemplate": "product_category_name_english=furniture_living_room<br>product_category_name=%{x}<br>count=%{y}<extra></extra>",
         "legendgroup": "furniture_living_room",
         "marker": {
          "color": "#00cc96",
          "pattern": {
           "shape": ""
          }
         },
         "name": "furniture_living_room",
         "offsetgroup": "furniture_living_room",
         "orientation": "v",
         "showlegend": true,
         "type": "histogram",
         "x": [
          "moveis_sala"
         ],
         "xaxis": "x",
         "yaxis": "y"
        },
        {
         "alignmentgroup": "True",
         "bingroup": "x",
         "hovertemplate": "product_category_name_english=construction_tools_lights<br>product_category_name=%{x}<br>count=%{y}<extra></extra>",
         "legendgroup": "construction_tools_lights",
         "marker": {
          "color": "#ab63fa",
          "pattern": {
           "shape": ""
          }
         },
         "name": "construction_tools_lights",
         "offsetgroup": "construction_tools_lights",
         "orientation": "v",
         "showlegend": true,
         "type": "histogram",
         "x": [
          "construcao_ferramentas_iluminacao"
         ],
         "xaxis": "x",
         "yaxis": "y"
        },
        {
         "alignmentgroup": "True",
         "bingroup": "x",
         "hovertemplate": "product_category_name_english=industry_commerce_and_business<br>product_category_name=%{x}<br>count=%{y}<extra></extra>",
         "legendgroup": "industry_commerce_and_business",
         "marker": {
          "color": "#FFA15A",
          "pattern": {
           "shape": ""
          }
         },
         "name": "industry_commerce_and_business",
         "offsetgroup": "industry_commerce_and_business",
         "orientation": "v",
         "showlegend": true,
         "type": "histogram",
         "x": [
          "industria_comercio_e_negocios"
         ],
         "xaxis": "x",
         "yaxis": "y"
        },
        {
         "alignmentgroup": "True",
         "bingroup": "x",
         "hovertemplate": "product_category_name_english=food<br>product_category_name=%{x}<br>count=%{y}<extra></extra>",
         "legendgroup": "food",
         "marker": {
          "color": "#19d3f3",
          "pattern": {
           "shape": ""
          }
         },
         "name": "food",
         "offsetgroup": "food",
         "orientation": "v",
         "showlegend": true,
         "type": "histogram",
         "x": [
          "alimentos"
         ],
         "xaxis": "x",
         "yaxis": "y"
        },
        {
         "alignmentgroup": "True",
         "bingroup": "x",
         "hovertemplate": "product_category_name_english=art<br>product_category_name=%{x}<br>count=%{y}<extra></extra>",
         "legendgroup": "art",
         "marker": {
          "color": "#FF6692",
          "pattern": {
           "shape": ""
          }
         },
         "name": "art",
         "offsetgroup": "art",
         "orientation": "v",
         "showlegend": true,
         "type": "histogram",
         "x": [
          "artes"
         ],
         "xaxis": "x",
         "yaxis": "y"
        },
        {
         "alignmentgroup": "True",
         "bingroup": "x",
         "hovertemplate": "product_category_name_english=furniture_bedroom<br>product_category_name=%{x}<br>count=%{y}<extra></extra>",
         "legendgroup": "furniture_bedroom",
         "marker": {
          "color": "#B6E880",
          "pattern": {
           "shape": ""
          }
         },
         "name": "furniture_bedroom",
         "offsetgroup": "furniture_bedroom",
         "orientation": "v",
         "showlegend": true,
         "type": "histogram",
         "x": [
          "moveis_quarto"
         ],
         "xaxis": "x",
         "yaxis": "y"
        },
        {
         "alignmentgroup": "True",
         "bingroup": "x",
         "hovertemplate": "product_category_name_english=books_general_interest<br>product_category_name=%{x}<br>count=%{y}<extra></extra>",
         "legendgroup": "books_general_interest",
         "marker": {
          "color": "#FF97FF",
          "pattern": {
           "shape": ""
          }
         },
         "name": "books_general_interest",
         "offsetgroup": "books_general_interest",
         "orientation": "v",
         "showlegend": true,
         "type": "histogram",
         "x": [
          "livros_interesse_geral"
         ],
         "xaxis": "x",
         "yaxis": "y"
        },
        {
         "alignmentgroup": "True",
         "bingroup": "x",
         "hovertemplate": "product_category_name_english=construction_tools_safety<br>product_category_name=%{x}<br>count=%{y}<extra></extra>",
         "legendgroup": "construction_tools_safety",
         "marker": {
          "color": "#FECB52",
          "pattern": {
           "shape": ""
          }
         },
         "name": "construction_tools_safety",
         "offsetgroup": "construction_tools_safety",
         "orientation": "v",
         "showlegend": true,
         "type": "histogram",
         "x": [
          "construcao_ferramentas_seguranca"
         ],
         "xaxis": "x",
         "yaxis": "y"
        },
        {
         "alignmentgroup": "True",
         "bingroup": "x",
         "hovertemplate": "product_category_name_english=fashion_underwear_beach<br>product_category_name=%{x}<br>count=%{y}<extra></extra>",
         "legendgroup": "fashion_underwear_beach",
         "marker": {
          "color": "#636efa",
          "pattern": {
           "shape": ""
          }
         },
         "name": "fashion_underwear_beach",
         "offsetgroup": "fashion_underwear_beach",
         "orientation": "v",
         "showlegend": true,
         "type": "histogram",
         "x": [
          "fashion_underwear_e_moda_praia"
         ],
         "xaxis": "x",
         "yaxis": "y"
        },
        {
         "alignmentgroup": "True",
         "bingroup": "x",
         "hovertemplate": "product_category_name_english=fashion_sport<br>product_category_name=%{x}<br>count=%{y}<extra></extra>",
         "legendgroup": "fashion_sport",
         "marker": {
          "color": "#EF553B",
          "pattern": {
           "shape": ""
          }
         },
         "name": "fashion_sport",
         "offsetgroup": "fashion_sport",
         "orientation": "v",
         "showlegend": true,
         "type": "histogram",
         "x": [
          "fashion_esporte"
         ],
         "xaxis": "x",
         "yaxis": "y"
        },
        {
         "alignmentgroup": "True",
         "bingroup": "x",
         "hovertemplate": "product_category_name_english=signaling_and_security<br>product_category_name=%{x}<br>count=%{y}<extra></extra>",
         "legendgroup": "signaling_and_security",
         "marker": {
          "color": "#00cc96",
          "pattern": {
           "shape": ""
          }
         },
         "name": "signaling_and_security",
         "offsetgroup": "signaling_and_security",
         "orientation": "v",
         "showlegend": true,
         "type": "histogram",
         "x": [
          "sinalizacao_e_seguranca"
         ],
         "xaxis": "x",
         "yaxis": "y"
        },
        {
         "alignmentgroup": "True",
         "bingroup": "x",
         "hovertemplate": "product_category_name_english=computers<br>product_category_name=%{x}<br>count=%{y}<extra></extra>",
         "legendgroup": "computers",
         "marker": {
          "color": "#ab63fa",
          "pattern": {
           "shape": ""
          }
         },
         "name": "computers",
         "offsetgroup": "computers",
         "orientation": "v",
         "showlegend": true,
         "type": "histogram",
         "x": [
          "pcs"
         ],
         "xaxis": "x",
         "yaxis": "y"
        },
        {
         "alignmentgroup": "True",
         "bingroup": "x",
         "hovertemplate": "product_category_name_english=christmas_supplies<br>product_category_name=%{x}<br>count=%{y}<extra></extra>",
         "legendgroup": "christmas_supplies",
         "marker": {
          "color": "#FFA15A",
          "pattern": {
           "shape": ""
          }
         },
         "name": "christmas_supplies",
         "offsetgroup": "christmas_supplies",
         "orientation": "v",
         "showlegend": true,
         "type": "histogram",
         "x": [
          "artigos_de_natal"
         ],
         "xaxis": "x",
         "yaxis": "y"
        },
        {
         "alignmentgroup": "True",
         "bingroup": "x",
         "hovertemplate": "product_category_name_english=fashio_female_clothing<br>product_category_name=%{x}<br>count=%{y}<extra></extra>",
         "legendgroup": "fashio_female_clothing",
         "marker": {
          "color": "#19d3f3",
          "pattern": {
           "shape": ""
          }
         },
         "name": "fashio_female_clothing",
         "offsetgroup": "fashio_female_clothing",
         "orientation": "v",
         "showlegend": true,
         "type": "histogram",
         "x": [
          "fashion_roupa_feminina"
         ],
         "xaxis": "x",
         "yaxis": "y"
        },
        {
         "alignmentgroup": "True",
         "bingroup": "x",
         "hovertemplate": "product_category_name_english=home_appliances_2<br>product_category_name=%{x}<br>count=%{y}<extra></extra>",
         "legendgroup": "home_appliances_2",
         "marker": {
          "color": "#FF6692",
          "pattern": {
           "shape": ""
          }
         },
         "name": "home_appliances_2",
         "offsetgroup": "home_appliances_2",
         "orientation": "v",
         "showlegend": true,
         "type": "histogram",
         "x": [
          "eletrodomesticos_2"
         ],
         "xaxis": "x",
         "yaxis": "y"
        },
        {
         "alignmentgroup": "True",
         "bingroup": "x",
         "hovertemplate": "product_category_name_english=books_imported<br>product_category_name=%{x}<br>count=%{y}<extra></extra>",
         "legendgroup": "books_imported",
         "marker": {
          "color": "#B6E880",
          "pattern": {
           "shape": ""
          }
         },
         "name": "books_imported",
         "offsetgroup": "books_imported",
         "orientation": "v",
         "showlegend": true,
         "type": "histogram",
         "x": [
          "livros_importados"
         ],
         "xaxis": "x",
         "yaxis": "y"
        },
        {
         "alignmentgroup": "True",
         "bingroup": "x",
         "hovertemplate": "product_category_name_english=drinks<br>product_category_name=%{x}<br>count=%{y}<extra></extra>",
         "legendgroup": "drinks",
         "marker": {
          "color": "#FF97FF",
          "pattern": {
           "shape": ""
          }
         },
         "name": "drinks",
         "offsetgroup": "drinks",
         "orientation": "v",
         "showlegend": true,
         "type": "histogram",
         "x": [
          "bebidas"
         ],
         "xaxis": "x",
         "yaxis": "y"
        },
        {
         "alignmentgroup": "True",
         "bingroup": "x",
         "hovertemplate": "product_category_name_english=cine_photo<br>product_category_name=%{x}<br>count=%{y}<extra></extra>",
         "legendgroup": "cine_photo",
         "marker": {
          "color": "#FECB52",
          "pattern": {
           "shape": ""
          }
         },
         "name": "cine_photo",
         "offsetgroup": "cine_photo",
         "orientation": "v",
         "showlegend": true,
         "type": "histogram",
         "x": [
          "cine_foto"
         ],
         "xaxis": "x",
         "yaxis": "y"
        },
        {
         "alignmentgroup": "True",
         "bingroup": "x",
         "hovertemplate": "product_category_name_english=la_cuisine<br>product_category_name=%{x}<br>count=%{y}<extra></extra>",
         "legendgroup": "la_cuisine",
         "marker": {
          "color": "#636efa",
          "pattern": {
           "shape": ""
          }
         },
         "name": "la_cuisine",
         "offsetgroup": "la_cuisine",
         "orientation": "v",
         "showlegend": true,
         "type": "histogram",
         "x": [
          "la_cuisine"
         ],
         "xaxis": "x",
         "yaxis": "y"
        },
        {
         "alignmentgroup": "True",
         "bingroup": "x",
         "hovertemplate": "product_category_name_english=music<br>product_category_name=%{x}<br>count=%{y}<extra></extra>",
         "legendgroup": "music",
         "marker": {
          "color": "#EF553B",
          "pattern": {
           "shape": ""
          }
         },
         "name": "music",
         "offsetgroup": "music",
         "orientation": "v",
         "showlegend": true,
         "type": "histogram",
         "x": [
          "musica"
         ],
         "xaxis": "x",
         "yaxis": "y"
        },
        {
         "alignmentgroup": "True",
         "bingroup": "x",
         "hovertemplate": "product_category_name_english=home_comfort_2<br>product_category_name=%{x}<br>count=%{y}<extra></extra>",
         "legendgroup": "home_comfort_2",
         "marker": {
          "color": "#00cc96",
          "pattern": {
           "shape": ""
          }
         },
         "name": "home_comfort_2",
         "offsetgroup": "home_comfort_2",
         "orientation": "v",
         "showlegend": true,
         "type": "histogram",
         "x": [
          "casa_conforto_2"
         ],
         "xaxis": "x",
         "yaxis": "y"
        },
        {
         "alignmentgroup": "True",
         "bingroup": "x",
         "hovertemplate": "product_category_name_english=small_appliances_home_oven_and_coffee<br>product_category_name=%{x}<br>count=%{y}<extra></extra>",
         "legendgroup": "small_appliances_home_oven_and_coffee",
         "marker": {
          "color": "#ab63fa",
          "pattern": {
           "shape": ""
          }
         },
         "name": "small_appliances_home_oven_and_coffee",
         "offsetgroup": "small_appliances_home_oven_and_coffee",
         "orientation": "v",
         "showlegend": true,
         "type": "histogram",
         "x": [
          "portateis_casa_forno_e_cafe"
         ],
         "xaxis": "x",
         "yaxis": "y"
        },
        {
         "alignmentgroup": "True",
         "bingroup": "x",
         "hovertemplate": "product_category_name_english=cds_dvds_musicals<br>product_category_name=%{x}<br>count=%{y}<extra></extra>",
         "legendgroup": "cds_dvds_musicals",
         "marker": {
          "color": "#FFA15A",
          "pattern": {
           "shape": ""
          }
         },
         "name": "cds_dvds_musicals",
         "offsetgroup": "cds_dvds_musicals",
         "orientation": "v",
         "showlegend": true,
         "type": "histogram",
         "x": [
          "cds_dvds_musicais"
         ],
         "xaxis": "x",
         "yaxis": "y"
        },
        {
         "alignmentgroup": "True",
         "bingroup": "x",
         "hovertemplate": "product_category_name_english=dvds_blu_ray<br>product_category_name=%{x}<br>count=%{y}<extra></extra>",
         "legendgroup": "dvds_blu_ray",
         "marker": {
          "color": "#19d3f3",
          "pattern": {
           "shape": ""
          }
         },
         "name": "dvds_blu_ray",
         "offsetgroup": "dvds_blu_ray",
         "orientation": "v",
         "showlegend": true,
         "type": "histogram",
         "x": [
          "dvds_blu_ray"
         ],
         "xaxis": "x",
         "yaxis": "y"
        },
        {
         "alignmentgroup": "True",
         "bingroup": "x",
         "hovertemplate": "product_category_name_english=flowers<br>product_category_name=%{x}<br>count=%{y}<extra></extra>",
         "legendgroup": "flowers",
         "marker": {
          "color": "#FF6692",
          "pattern": {
           "shape": ""
          }
         },
         "name": "flowers",
         "offsetgroup": "flowers",
         "orientation": "v",
         "showlegend": true,
         "type": "histogram",
         "x": [
          "flores"
         ],
         "xaxis": "x",
         "yaxis": "y"
        },
        {
         "alignmentgroup": "True",
         "bingroup": "x",
         "hovertemplate": "product_category_name_english=arts_and_craftmanship<br>product_category_name=%{x}<br>count=%{y}<extra></extra>",
         "legendgroup": "arts_and_craftmanship",
         "marker": {
          "color": "#B6E880",
          "pattern": {
           "shape": ""
          }
         },
         "name": "arts_and_craftmanship",
         "offsetgroup": "arts_and_craftmanship",
         "orientation": "v",
         "showlegend": true,
         "type": "histogram",
         "x": [
          "artes_e_artesanato"
         ],
         "xaxis": "x",
         "yaxis": "y"
        },
        {
         "alignmentgroup": "True",
         "bingroup": "x",
         "hovertemplate": "product_category_name_english=diapers_and_hygiene<br>product_category_name=%{x}<br>count=%{y}<extra></extra>",
         "legendgroup": "diapers_and_hygiene",
         "marker": {
          "color": "#FF97FF",
          "pattern": {
           "shape": ""
          }
         },
         "name": "diapers_and_hygiene",
         "offsetgroup": "diapers_and_hygiene",
         "orientation": "v",
         "showlegend": true,
         "type": "histogram",
         "x": [
          "fraldas_higiene"
         ],
         "xaxis": "x",
         "yaxis": "y"
        },
        {
         "alignmentgroup": "True",
         "bingroup": "x",
         "hovertemplate": "product_category_name_english=fashion_childrens_clothes<br>product_category_name=%{x}<br>count=%{y}<extra></extra>",
         "legendgroup": "fashion_childrens_clothes",
         "marker": {
          "color": "#FECB52",
          "pattern": {
           "shape": ""
          }
         },
         "name": "fashion_childrens_clothes",
         "offsetgroup": "fashion_childrens_clothes",
         "orientation": "v",
         "showlegend": true,
         "type": "histogram",
         "x": [
          "fashion_roupa_infanto_juvenil"
         ],
         "xaxis": "x",
         "yaxis": "y"
        },
        {
         "alignmentgroup": "True",
         "bingroup": "x",
         "hovertemplate": "product_category_name_english=security_and_services<br>product_category_name=%{x}<br>count=%{y}<extra></extra>",
         "legendgroup": "security_and_services",
         "marker": {
          "color": "#636efa",
          "pattern": {
           "shape": ""
          }
         },
         "name": "security_and_services",
         "offsetgroup": "security_and_services",
         "orientation": "v",
         "showlegend": true,
         "type": "histogram",
         "x": [
          "seguros_e_servicos"
         ],
         "xaxis": "x",
         "yaxis": "y"
        }
       ],
       "layout": {
        "barmode": "relative",
        "legend": {
         "title": {
          "text": "product_category_name_english"
         },
         "tracegroupgap": 0
        },
        "margin": {
         "t": 60
        },
        "template": {
         "data": {
          "bar": [
           {
            "error_x": {
             "color": "#2a3f5f"
            },
            "error_y": {
             "color": "#2a3f5f"
            },
            "marker": {
             "line": {
              "color": "#E5ECF6",
              "width": 0.5
             },
             "pattern": {
              "fillmode": "overlay",
              "size": 10,
              "solidity": 0.2
             }
            },
            "type": "bar"
           }
          ],
          "barpolar": [
           {
            "marker": {
             "line": {
              "color": "#E5ECF6",
              "width": 0.5
             },
             "pattern": {
              "fillmode": "overlay",
              "size": 10,
              "solidity": 0.2
             }
            },
            "type": "barpolar"
           }
          ],
          "carpet": [
           {
            "aaxis": {
             "endlinecolor": "#2a3f5f",
             "gridcolor": "white",
             "linecolor": "white",
             "minorgridcolor": "white",
             "startlinecolor": "#2a3f5f"
            },
            "baxis": {
             "endlinecolor": "#2a3f5f",
             "gridcolor": "white",
             "linecolor": "white",
             "minorgridcolor": "white",
             "startlinecolor": "#2a3f5f"
            },
            "type": "carpet"
           }
          ],
          "choropleth": [
           {
            "colorbar": {
             "outlinewidth": 0,
             "ticks": ""
            },
            "type": "choropleth"
           }
          ],
          "contour": [
           {
            "colorbar": {
             "outlinewidth": 0,
             "ticks": ""
            },
            "colorscale": [
             [
              0,
              "#0d0887"
             ],
             [
              0.1111111111111111,
              "#46039f"
             ],
             [
              0.2222222222222222,
              "#7201a8"
             ],
             [
              0.3333333333333333,
              "#9c179e"
             ],
             [
              0.4444444444444444,
              "#bd3786"
             ],
             [
              0.5555555555555556,
              "#d8576b"
             ],
             [
              0.6666666666666666,
              "#ed7953"
             ],
             [
              0.7777777777777778,
              "#fb9f3a"
             ],
             [
              0.8888888888888888,
              "#fdca26"
             ],
             [
              1,
              "#f0f921"
             ]
            ],
            "type": "contour"
           }
          ],
          "contourcarpet": [
           {
            "colorbar": {
             "outlinewidth": 0,
             "ticks": ""
            },
            "type": "contourcarpet"
           }
          ],
          "heatmap": [
           {
            "colorbar": {
             "outlinewidth": 0,
             "ticks": ""
            },
            "colorscale": [
             [
              0,
              "#0d0887"
             ],
             [
              0.1111111111111111,
              "#46039f"
             ],
             [
              0.2222222222222222,
              "#7201a8"
             ],
             [
              0.3333333333333333,
              "#9c179e"
             ],
             [
              0.4444444444444444,
              "#bd3786"
             ],
             [
              0.5555555555555556,
              "#d8576b"
             ],
             [
              0.6666666666666666,
              "#ed7953"
             ],
             [
              0.7777777777777778,
              "#fb9f3a"
             ],
             [
              0.8888888888888888,
              "#fdca26"
             ],
             [
              1,
              "#f0f921"
             ]
            ],
            "type": "heatmap"
           }
          ],
          "heatmapgl": [
           {
            "colorbar": {
             "outlinewidth": 0,
             "ticks": ""
            },
            "colorscale": [
             [
              0,
              "#0d0887"
             ],
             [
              0.1111111111111111,
              "#46039f"
             ],
             [
              0.2222222222222222,
              "#7201a8"
             ],
             [
              0.3333333333333333,
              "#9c179e"
             ],
             [
              0.4444444444444444,
              "#bd3786"
             ],
             [
              0.5555555555555556,
              "#d8576b"
             ],
             [
              0.6666666666666666,
              "#ed7953"
             ],
             [
              0.7777777777777778,
              "#fb9f3a"
             ],
             [
              0.8888888888888888,
              "#fdca26"
             ],
             [
              1,
              "#f0f921"
             ]
            ],
            "type": "heatmapgl"
           }
          ],
          "histogram": [
           {
            "marker": {
             "pattern": {
              "fillmode": "overlay",
              "size": 10,
              "solidity": 0.2
             }
            },
            "type": "histogram"
           }
          ],
          "histogram2d": [
           {
            "colorbar": {
             "outlinewidth": 0,
             "ticks": ""
            },
            "colorscale": [
             [
              0,
              "#0d0887"
             ],
             [
              0.1111111111111111,
              "#46039f"
             ],
             [
              0.2222222222222222,
              "#7201a8"
             ],
             [
              0.3333333333333333,
              "#9c179e"
             ],
             [
              0.4444444444444444,
              "#bd3786"
             ],
             [
              0.5555555555555556,
              "#d8576b"
             ],
             [
              0.6666666666666666,
              "#ed7953"
             ],
             [
              0.7777777777777778,
              "#fb9f3a"
             ],
             [
              0.8888888888888888,
              "#fdca26"
             ],
             [
              1,
              "#f0f921"
             ]
            ],
            "type": "histogram2d"
           }
          ],
          "histogram2dcontour": [
           {
            "colorbar": {
             "outlinewidth": 0,
             "ticks": ""
            },
            "colorscale": [
             [
              0,
              "#0d0887"
             ],
             [
              0.1111111111111111,
              "#46039f"
             ],
             [
              0.2222222222222222,
              "#7201a8"
             ],
             [
              0.3333333333333333,
              "#9c179e"
             ],
             [
              0.4444444444444444,
              "#bd3786"
             ],
             [
              0.5555555555555556,
              "#d8576b"
             ],
             [
              0.6666666666666666,
              "#ed7953"
             ],
             [
              0.7777777777777778,
              "#fb9f3a"
             ],
             [
              0.8888888888888888,
              "#fdca26"
             ],
             [
              1,
              "#f0f921"
             ]
            ],
            "type": "histogram2dcontour"
           }
          ],
          "mesh3d": [
           {
            "colorbar": {
             "outlinewidth": 0,
             "ticks": ""
            },
            "type": "mesh3d"
           }
          ],
          "parcoords": [
           {
            "line": {
             "colorbar": {
              "outlinewidth": 0,
              "ticks": ""
             }
            },
            "type": "parcoords"
           }
          ],
          "pie": [
           {
            "automargin": true,
            "type": "pie"
           }
          ],
          "scatter": [
           {
            "fillpattern": {
             "fillmode": "overlay",
             "size": 10,
             "solidity": 0.2
            },
            "type": "scatter"
           }
          ],
          "scatter3d": [
           {
            "line": {
             "colorbar": {
              "outlinewidth": 0,
              "ticks": ""
             }
            },
            "marker": {
             "colorbar": {
              "outlinewidth": 0,
              "ticks": ""
             }
            },
            "type": "scatter3d"
           }
          ],
          "scattercarpet": [
           {
            "marker": {
             "colorbar": {
              "outlinewidth": 0,
              "ticks": ""
             }
            },
            "type": "scattercarpet"
           }
          ],
          "scattergeo": [
           {
            "marker": {
             "colorbar": {
              "outlinewidth": 0,
              "ticks": ""
             }
            },
            "type": "scattergeo"
           }
          ],
          "scattergl": [
           {
            "marker": {
             "colorbar": {
              "outlinewidth": 0,
              "ticks": ""
             }
            },
            "type": "scattergl"
           }
          ],
          "scattermapbox": [
           {
            "marker": {
             "colorbar": {
              "outlinewidth": 0,
              "ticks": ""
             }
            },
            "type": "scattermapbox"
           }
          ],
          "scatterpolar": [
           {
            "marker": {
             "colorbar": {
              "outlinewidth": 0,
              "ticks": ""
             }
            },
            "type": "scatterpolar"
           }
          ],
          "scatterpolargl": [
           {
            "marker": {
             "colorbar": {
              "outlinewidth": 0,
              "ticks": ""
             }
            },
            "type": "scatterpolargl"
           }
          ],
          "scatterternary": [
           {
            "marker": {
             "colorbar": {
              "outlinewidth": 0,
              "ticks": ""
             }
            },
            "type": "scatterternary"
           }
          ],
          "surface": [
           {
            "colorbar": {
             "outlinewidth": 0,
             "ticks": ""
            },
            "colorscale": [
             [
              0,
              "#0d0887"
             ],
             [
              0.1111111111111111,
              "#46039f"
             ],
             [
              0.2222222222222222,
              "#7201a8"
             ],
             [
              0.3333333333333333,
              "#9c179e"
             ],
             [
              0.4444444444444444,
              "#bd3786"
             ],
             [
              0.5555555555555556,
              "#d8576b"
             ],
             [
              0.6666666666666666,
              "#ed7953"
             ],
             [
              0.7777777777777778,
              "#fb9f3a"
             ],
             [
              0.8888888888888888,
              "#fdca26"
             ],
             [
              1,
              "#f0f921"
             ]
            ],
            "type": "surface"
           }
          ],
          "table": [
           {
            "cells": {
             "fill": {
              "color": "#EBF0F8"
             },
             "line": {
              "color": "white"
             }
            },
            "header": {
             "fill": {
              "color": "#C8D4E3"
             },
             "line": {
              "color": "white"
             }
            },
            "type": "table"
           }
          ]
         },
         "layout": {
          "annotationdefaults": {
           "arrowcolor": "#2a3f5f",
           "arrowhead": 0,
           "arrowwidth": 1
          },
          "autotypenumbers": "strict",
          "coloraxis": {
           "colorbar": {
            "outlinewidth": 0,
            "ticks": ""
           }
          },
          "colorscale": {
           "diverging": [
            [
             0,
             "#8e0152"
            ],
            [
             0.1,
             "#c51b7d"
            ],
            [
             0.2,
             "#de77ae"
            ],
            [
             0.3,
             "#f1b6da"
            ],
            [
             0.4,
             "#fde0ef"
            ],
            [
             0.5,
             "#f7f7f7"
            ],
            [
             0.6,
             "#e6f5d0"
            ],
            [
             0.7,
             "#b8e186"
            ],
            [
             0.8,
             "#7fbc41"
            ],
            [
             0.9,
             "#4d9221"
            ],
            [
             1,
             "#276419"
            ]
           ],
           "sequential": [
            [
             0,
             "#0d0887"
            ],
            [
             0.1111111111111111,
             "#46039f"
            ],
            [
             0.2222222222222222,
             "#7201a8"
            ],
            [
             0.3333333333333333,
             "#9c179e"
            ],
            [
             0.4444444444444444,
             "#bd3786"
            ],
            [
             0.5555555555555556,
             "#d8576b"
            ],
            [
             0.6666666666666666,
             "#ed7953"
            ],
            [
             0.7777777777777778,
             "#fb9f3a"
            ],
            [
             0.8888888888888888,
             "#fdca26"
            ],
            [
             1,
             "#f0f921"
            ]
           ],
           "sequentialminus": [
            [
             0,
             "#0d0887"
            ],
            [
             0.1111111111111111,
             "#46039f"
            ],
            [
             0.2222222222222222,
             "#7201a8"
            ],
            [
             0.3333333333333333,
             "#9c179e"
            ],
            [
             0.4444444444444444,
             "#bd3786"
            ],
            [
             0.5555555555555556,
             "#d8576b"
            ],
            [
             0.6666666666666666,
             "#ed7953"
            ],
            [
             0.7777777777777778,
             "#fb9f3a"
            ],
            [
             0.8888888888888888,
             "#fdca26"
            ],
            [
             1,
             "#f0f921"
            ]
           ]
          },
          "colorway": [
           "#636efa",
           "#EF553B",
           "#00cc96",
           "#ab63fa",
           "#FFA15A",
           "#19d3f3",
           "#FF6692",
           "#B6E880",
           "#FF97FF",
           "#FECB52"
          ],
          "font": {
           "color": "#2a3f5f"
          },
          "geo": {
           "bgcolor": "white",
           "lakecolor": "white",
           "landcolor": "#E5ECF6",
           "showlakes": true,
           "showland": true,
           "subunitcolor": "white"
          },
          "hoverlabel": {
           "align": "left"
          },
          "hovermode": "closest",
          "mapbox": {
           "style": "light"
          },
          "paper_bgcolor": "white",
          "plot_bgcolor": "#E5ECF6",
          "polar": {
           "angularaxis": {
            "gridcolor": "white",
            "linecolor": "white",
            "ticks": ""
           },
           "bgcolor": "#E5ECF6",
           "radialaxis": {
            "gridcolor": "white",
            "linecolor": "white",
            "ticks": ""
           }
          },
          "scene": {
           "xaxis": {
            "backgroundcolor": "#E5ECF6",
            "gridcolor": "white",
            "gridwidth": 2,
            "linecolor": "white",
            "showbackground": true,
            "ticks": "",
            "zerolinecolor": "white"
           },
           "yaxis": {
            "backgroundcolor": "#E5ECF6",
            "gridcolor": "white",
            "gridwidth": 2,
            "linecolor": "white",
            "showbackground": true,
            "ticks": "",
            "zerolinecolor": "white"
           },
           "zaxis": {
            "backgroundcolor": "#E5ECF6",
            "gridcolor": "white",
            "gridwidth": 2,
            "linecolor": "white",
            "showbackground": true,
            "ticks": "",
            "zerolinecolor": "white"
           }
          },
          "shapedefaults": {
           "line": {
            "color": "#2a3f5f"
           }
          },
          "ternary": {
           "aaxis": {
            "gridcolor": "white",
            "linecolor": "white",
            "ticks": ""
           },
           "baxis": {
            "gridcolor": "white",
            "linecolor": "white",
            "ticks": ""
           },
           "bgcolor": "#E5ECF6",
           "caxis": {
            "gridcolor": "white",
            "linecolor": "white",
            "ticks": ""
           }
          },
          "title": {
           "x": 0.05
          },
          "xaxis": {
           "automargin": true,
           "gridcolor": "white",
           "linecolor": "white",
           "ticks": "",
           "title": {
            "standoff": 15
           },
           "zerolinecolor": "white",
           "zerolinewidth": 2
          },
          "yaxis": {
           "automargin": true,
           "gridcolor": "white",
           "linecolor": "white",
           "ticks": "",
           "title": {
            "standoff": 15
           },
           "zerolinecolor": "white",
           "zerolinewidth": 2
          }
         }
        },
        "xaxis": {
         "anchor": "y",
         "domain": [
          0,
          1
         ],
         "title": {
          "text": "product_category_name"
         }
        },
        "yaxis": {
         "anchor": "x",
         "domain": [
          0,
          1
         ],
         "title": {
          "text": "count"
         }
        }
       }
      }
     },
     "metadata": {},
     "output_type": "display_data"
    }
   ],
   "source": [
    "#importando a biblioteca\n",
    "import pandas as pd\n",
    "import plotly.express as px\n",
    "\n",
    "#visualização da base\n",
    "tabela_category = pd.read_csv(\"product_category_name_translation.csv\", sep=\",\")\n",
    "\n",
    "#exibição da tabela\n",
    "display(tabela_category)\n",
    "\n",
    "# Ordenando os dados por uma coluna específica (por exemplo, 'category_name')\n",
    "tabela_ordenada = tabela_category.sort_values(by='product_category_name')\n",
    "display(tabela_ordenada)\n",
    "\n",
    "\n",
    "#excluir linhas vazias\n",
    "tabela = tabela_category.dropna()\n",
    "\n",
    "#vizualizar as informações da tabela\n",
    "display(tabela_category.info())\n",
    "\n",
    "#Analisar uma coluna especifica e contar os valores com o value_counts\n",
    "display(tabela_category[\"product_category_name\"].value_counts())\n",
    "\n",
    "#calculando o percentual dos valores contados\n",
    "display(tabela_category[\"product_category_name\"].value_counts(normalize=True))\n",
    "\n",
    "# Gerando Gráficos com comparações\n",
    "\n",
    "for coluna in tabela_category.columns:\n",
    "    #Criando os gráficos da tabela\n",
    "    grafico = px.histogram(tabela_category, x=coluna)\n",
    "  #Exibir o gráfico\n",
    "    grafico.show()\n",
    "\n",
    "for coluna in tabela_category.columns:\n",
    "    #Criando os gráficos da tabela\n",
    "    grafico = px.histogram(tabela_category, x=\"product_category_name\", color=\"product_category_name_english\")\n",
    "  #Exibir o gráfico\n",
    "    grafico.show()\n",
    "\n"
   ]
  }
 ],
 "metadata": {
  "kernelspec": {
   "display_name": "Python 3",
   "language": "python",
   "name": "python3"
  },
  "language_info": {
   "codemirror_mode": {
    "name": "ipython",
    "version": 3
   },
   "file_extension": ".py",
   "mimetype": "text/x-python",
   "name": "python",
   "nbconvert_exporter": "python",
   "pygments_lexer": "ipython3",
   "version": "3.12.3"
  }
 },
 "nbformat": 4,
 "nbformat_minor": 2
}
